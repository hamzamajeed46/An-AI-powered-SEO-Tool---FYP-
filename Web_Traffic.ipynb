{
 "cells": [
  {
   "cell_type": "code",
   "execution_count": 1,
   "metadata": {},
   "outputs": [
    {
     "name": "stdout",
     "output_type": "stream",
     "text": [
      "{\"status\":\"success\",\"traffic_history\":[{\"date\":\"2024-10-01\",\"organic\":6285331},{\"date\":\"2024-11-01\",\"organic\":7570869},{\"date\":\"2024-12-01\",\"organic\":7047929},{\"date\":\"2025-01-01\",\"organic\":8442861},{\"date\":\"2025-02-01\",\"organic\":8615202},{\"date\":\"2025-03-01\",\"organic\":7105680}],\"traffic\":{\"trafficMonthlyAvg\":7544768,\"costMontlyAvg\":386280060},\"top_pages\":[{\"url\":\"https:\\/\\/ahrefs.com\\/\",\"traffic\":110127,\"share\":6.178596775686646},{\"url\":\"https:\\/\\/ahrefs.com\\/writing-tools\\/ai-humanizer\",\"traffic\":109499,\"share\":6.14336328367169},{\"url\":\"https:\\/\\/ahrefs.com\\/writing-tools\\/paraphrasing-tool\",\"traffic\":101782,\"share\":5.710406503608908},{\"url\":\"https:\\/\\/ahrefs.com\\/writing-tools\\/instagram-caption-generator\",\"traffic\":90418,\"share\":5.072837390140793},{\"url\":\"https:\\/\\/ahrefs.com\\/website-authority-checker\",\"traffic\":87495,\"share\":4.908844560268627}],\"top_countries\":[{\"country\":\"in\",\"share\":25.135709297099197},{\"country\":\"us\",\"share\":20.571501329732566},{\"country\":\"ph\",\"share\":7.564482901733983},{\"country\":\"pk\",\"share\":5.467270480097255},{\"country\":\"gb\",\"share\":4.675222209808496}],\"top_keywords\":[{\"keyword\":\"ahrefs\",\"position\":1,\"traffic\":98000},{\"keyword\":\"igram world\",\"position\":6,\"traffic\":657000},{\"keyword\":\"da checker\",\"position\":1,\"traffic\":39000},{\"keyword\":\"humanize ai\",\"position\":3,\"traffic\":288000},{\"keyword\":\"humanizer\",\"position\":1,\"traffic\":26000}]}\n"
     ]
    }
   ],
   "source": [
    "import http.client\n",
    "\n",
    "conn = http.client.HTTPSConnection(\"ahrefs1.p.rapidapi.com\")\n",
    "\n",
    "headers = {\n",
    "    'x-rapidapi-key': \"85e7d0841amshe3a29d2229bb909p17f5ccjsnefcb401c476a\",\n",
    "    'x-rapidapi-host': \"ahrefs1.p.rapidapi.com\"\n",
    "}\n",
    "\n",
    "conn.request(\"GET\", \"/v1/website-traffic-checker?url=ahrefs.com&mode=subdomains\", headers=headers)\n",
    "\n",
    "res = conn.getresponse()\n",
    "data = res.read()\n",
    "\n",
    "print(data.decode(\"utf-8\"))"
   ]
  },
  {
   "cell_type": "code",
   "execution_count": 2,
   "metadata": {},
   "outputs": [
    {
     "name": "stdout",
     "output_type": "stream",
     "text": [
      "{'status': 'success', 'traffic_history': [{'date': '2024-10-01', 'organic': 74}, {'date': '2024-11-01', 'organic': 53}, {'date': '2024-12-01', 'organic': 63}, {'date': '2025-01-01', 'organic': 80}, {'date': '2025-02-01', 'organic': 60}, {'date': '2025-03-01', 'organic': 59}], 'traffic': {'trafficMonthlyAvg': 58, 'costMontlyAvg': 191}, 'top_pages': [{'url': 'https://www.waheediqbal.info/courses/OS-2013/os_projects', 'traffic': 48, 'share': 100}], 'top_countries': [{'country': 'in', 'share': 82.30734427011986}, {'country': 'pk', 'share': 17.26330872032477}, {'country': 'us', 'share': 0.4293452628495128}, {'country': 'it', 'share': 1.7154590659284853e-06}, {'country': 'ph', 'share': 3.124681609751543e-08}], 'top_keywords': [{'keyword': 'os project ideas', 'position': 3, 'traffic': 90}, {'keyword': 'operating system project', 'position': 5, 'traffic': 150}, {'keyword': 'os projects', 'position': 6, 'traffic': 80}, {'keyword': 'operating system project ideas', 'position': 4, 'traffic': 60}, {'keyword': 'operating system projects', 'position': 5, 'traffic': 100}]}\n"
     ]
    }
   ],
   "source": [
    "import requests\n",
    "\n",
    "url = \"https://ahrefs1.p.rapidapi.com/v1/website-traffic-checker\"\n",
    "\n",
    "querystring = {\"url\":\"waheediqbal.info\",\"mode\":\"subdomains\"}\n",
    "\n",
    "headers = {\n",
    "\t\"x-rapidapi-key\": \"85e7d0841amshe3a29d2229bb909p17f5ccjsnefcb401c476a\",\n",
    "\t\"x-rapidapi-host\": \"ahrefs1.p.rapidapi.com\"\n",
    "}\n",
    "\n",
    "response = requests.get(url, headers=headers, params=querystring)\n",
    "\n",
    "print(response.json())"
   ]
  },
  {
   "cell_type": "code",
   "execution_count": 3,
   "metadata": {},
   "outputs": [
    {
     "name": "stdout",
     "output_type": "stream",
     "text": [
      "Error: ('28000', \"[28000] [Microsoft][ODBC Driver 17 for SQL Server][SQL Server]Login failed for user 'CloudSA85875f58'. Reason: Azure Active Directory only authentication is enabled. Please contact your system administrator. (18456) (SQLDriverConnect); [28000] [Microsoft][ODBC Driver 17 for SQL Server][SQL Server]Login failed for user 'CloudSA85875f58'. Reason: Azure Active Directory only authentication is enabled. Please contact your system administrator. (18456)\")\n"
     ]
    }
   ],
   "source": [
    "import pyodbc\n",
    "\n",
    "# Connection details\n",
    "server = \"us-west-2.database.windows.net\"\n",
    "database = \"Test\"\n",
    "username = \"CloudSA85875f58\"\n",
    "password = \"6G3fcX7H\"\n",
    "driver = \"{ODBC Driver 17 for SQL Server}\"  # Ensure the correct ODBC driver is installed\n",
    "\n",
    "# Create connection string\n",
    "conn_string = f\"DRIVER={driver};SERVER={server};DATABASE={database};UID={username};PWD={password}\"\n",
    "\n",
    "try:\n",
    "    # Establish connection\n",
    "    conn = pyodbc.connect(conn_string)\n",
    "    cursor = conn.cursor()\n",
    "    \n",
    "    print(\"Connected to the database!\")\n",
    "\n",
    "    # Create the 'Testin' table if not exists\n",
    "    create_table_query = \"\"\"\n",
    "    IF NOT EXISTS (SELECT * FROM INFORMATION_SCHEMA.TABLES WHERE TABLE_NAME = 'Testin')\n",
    "    CREATE TABLE Testin (\n",
    "        id INT IDENTITY(1,1) PRIMARY KEY,\n",
    "        name NVARCHAR(100),\n",
    "        created_at DATETIME DEFAULT GETDATE()\n",
    "    )\n",
    "    \"\"\"\n",
    "    cursor.execute(create_table_query)\n",
    "    conn.commit()\n",
    "    print(\"Table 'Testin' ensured in the database.\")\n",
    "\n",
    "except Exception as e:\n",
    "    print(\"Error:\", e)\n",
    "finally:\n",
    "    # Close the connection\n",
    "    if 'conn' in locals():\n",
    "        conn.close()\n",
    "        print(\"Connection closed.\")\n"
   ]
  },
  {
   "cell_type": "code",
   "execution_count": 2,
   "metadata": {},
   "outputs": [
    {
     "name": "stdout",
     "output_type": "stream",
     "text": [
      "['SQL Server', 'ODBC Driver 17 for SQL Server']\n"
     ]
    }
   ],
   "source": [
    "import pyodbc\n",
    "print(pyodbc.drivers())  # This will list all installed ODBC drivers\n"
   ]
  },
  {
   "cell_type": "code",
   "execution_count": null,
   "metadata": {},
   "outputs": [],
   "source": []
  }
 ],
 "metadata": {
  "kernelspec": {
   "display_name": "Python 3",
   "language": "python",
   "name": "python3"
  },
  "language_info": {
   "codemirror_mode": {
    "name": "ipython",
    "version": 3
   },
   "file_extension": ".py",
   "mimetype": "text/x-python",
   "name": "python",
   "nbconvert_exporter": "python",
   "pygments_lexer": "ipython3",
   "version": "3.12.1"
  }
 },
 "nbformat": 4,
 "nbformat_minor": 2
}
