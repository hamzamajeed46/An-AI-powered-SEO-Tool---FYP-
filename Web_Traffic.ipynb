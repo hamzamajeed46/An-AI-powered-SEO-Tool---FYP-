{
 "cells": [
  {
   "cell_type": "code",
   "execution_count": null,
   "metadata": {},
   "outputs": [
    {
     "name": "stdout",
     "output_type": "stream",
     "text": [
      "{\"status\":\"success\",\"traffic_history\":[{\"date\":\"2024-10-01\",\"organic\":6380383},{\"date\":\"2024-11-01\",\"organic\":7645321},{\"date\":\"2024-12-01\",\"organic\":7125163},{\"date\":\"2025-01-01\",\"organic\":8487055},{\"date\":\"2025-02-01\",\"organic\":8621000},{\"date\":\"2025-03-01\",\"organic\":6079333},{\"date\":\"2025-04-01\",\"organic\":4826300}],\"traffic\":{\"trafficMonthlyAvg\":4853939,\"costMontlyAvg\":318872860},\"top_pages\":[{\"url\":\"https:\\/\\/ahrefs.com\\/writing-tools\\/paragraph-rewriter\",\"traffic\":146077,\"share\":11.547013864131667},{\"url\":\"https:\\/\\/ahrefs.com\\/keyword-rank-checker\",\"traffic\":96526,\"share\":7.630133835231921},{\"url\":\"https:\\/\\/ahrefs.com\\/backlink-checker\",\"traffic\":75844,\"share\":5.995274543639328},{\"url\":\"https:\\/\\/ahrefs.com\\/writing-tools\\/sentence-rewriter\",\"traffic\":75684,\"share\":5.982626952175504},{\"url\":\"https:\\/\\/ahrefs.com\\/\",\"traffic\":73618,\"share\":5.819314927398873}],\"top_countries\":[{\"country\":\"us\",\"share\":26.211853109109946},{\"country\":\"in\",\"share\":22.003120280765028},{\"country\":\"pk\",\"share\":6.549860137230652},{\"country\":\"gb\",\"share\":5.190027197503885},{\"country\":\"ph\",\"share\":4.025188786386361}],\"top_keywords\":[{\"keyword\":\"ahrefs\",\"position\":1,\"traffic\":57000},{\"keyword\":\"stream east\",\"position\":7,\"traffic\":1110000},{\"keyword\":\"paragraph rewriter\",\"position\":1,\"traffic\":38000},{\"keyword\":\"sentence rewriter\",\"position\":1,\"traffic\":51000},{\"keyword\":\"humanize ai\",\"position\":5,\"traffic\":309000}]}\n"
     ]
    }
   ],
   "source": [
    "from config import Config\n",
    "import http.client\n",
    "\n",
    "conn = http.client.HTTPSConnection(\"ahrefs1.p.rapidapi.com\")\n",
    "\n",
    "headers = {\n",
    "    'x-rapidapi-key': Config.API_KEY,\n",
    "    'x-rapidapi-host': \"ahrefs1.p.rapidapi.com\"\n",
    "}\n",
    "\n",
    "conn.request(\"GET\", \"/v1/website-traffic-checker?url=ahrefs.com&mode=subdomains\", headers=headers)\n",
    "\n",
    "res = conn.getresponse()\n",
    "data = res.read()\n",
    "\n",
    "print(data.decode(\"utf-8\"))"
   ]
  },
  {
   "cell_type": "code",
   "execution_count": null,
   "metadata": {},
   "outputs": [
    {
     "name": "stdout",
     "output_type": "stream",
     "text": [
      "error: API key not configured. Please check your .env file.\n",
      "{'message': 'Invalid API key. Go to https://docs.rapidapi.com/docs/keys for more info.'}\n"
     ]
    }
   ],
   "source": [
    "import requests\n",
    "\n",
    "url = \"https://ahrefs1.p.rapidapi.com/v1/website-traffic-checker\"\n",
    "api = f\"{Config.API_KEY}\"\n",
    "querystring = {\"url\":\"waheediqbal.info\",\"mode\":\"subdomains\"}\n",
    "\n",
    "if not Config.API_KEY:\n",
    "        print(\"error: API key not configured. Please check your .env file.\")\n",
    "    \n",
    "headers = {\n",
    "\t\"x-rapidapi-key\": Config.API_KEY,\n",
    "\t\"x-rapidapi-host\": \"ahrefs1.p.rapidapi.com\"\n",
    "}\n",
    "response = requests.get(url, headers=headers, params=querystring)\n",
    "\n",
    "print(response.json())"
   ]
  },
  {
   "cell_type": "code",
   "execution_count": 1,
   "metadata": {},
   "outputs": [
    {
     "name": "stdout",
     "output_type": "stream",
     "text": [
      "{'search_term': 'shoes', 'knowledge_panel': None, 'results': [{'position': 1, 'url': 'https://www.dsw.com/', 'title': \"Shoes: Women's, Men's & Kids Shoes from Top Brands | DSW\", 'description': 'Find the best athletic shoes, sneakers and more at DSW. Free shipping, great deals and VIP perks. Shop the latest shoes online or at your nearest shoe\\xa0...'}, {'position': 2, 'url': 'https://www.shoesforcrews.com/?srsltid=AfmBOop2rH1ZrIgV2mUNETJODuxVgKtYA1vdE8XMH65_yxvuXoYXhOsq', 'title': 'Non-Slip Shoes For Crews® | Slip-Resistant Comfortable Work Shoes', 'description': 'Our slip- and oil-resistant outsoles are created with the traction, durability and safety features needed to get the job done across a variety of industries.'}, {'position': 3, 'url': 'https://www.adidas.com/us/shop-shoes', 'title': 'Shoes Deals: Extra 30% Off | adidas US', 'description': 'Kick off the season in style with our Spring Sale! Enjoy an extra 30% off with code DEAL. Hurry, offer ends 3/31. See offer details.'}, {'position': 4, 'url': 'https://www.nike.com/w/sale-shoes-3yaepzy7ok', 'title': 'Sale Shoes. Nike.com', 'description': \"Best Sellers Training & Gym Shoes · Running Shoes $100 and Under · Multi-Color Shoes · Baby & Toddler Sale Shoes · Men's Sale Basketball Shoes · Sale Running\\xa0...\"}, {'position': 5, 'url': 'https://www.zappos.com/shoes', 'title': 'Shoes + FREE SHIPPING - Zappos.com', 'description': 'Free shipping BOTH ways on shoes from our vast selection of styles. Fast delivery, and 24/7/365 real-person service with a smile.'}, {'position': 6, 'url': 'https://www.zappos.com/', 'title': 'Zappos.com: Shoes, Sneakers, Boots, & Clothing + FREE SHIPPING', 'description': 'GET FREE SHIPPING & RETURNS! We have 1000s of styles of shoes & Zappos legendary 365-day return policy + 24/7 friendly customer service.'}, {'position': 7, 'url': 'https://www.berluti.com/en-us/shoes/', 'title': 'Shoes for Men | Berluti US', 'description': \"From classic Oxford lace-ups and loafers to statement-making sneakers, boots and sandals, men's shoes are the ultimate expression of Berluti's luxury leather\\xa0...\"}, {'position': 8, 'url': 'https://www.katespadeoutlet.com/shop/shoes/view-all?srsltid=AfmBOoqDt4ky7IsZVyq51RiPoTn6Mi3WKKb31G8B_vByF9XmTSS014Fs', 'title': \"Women's Shoes Sale - Kate Spade Outlet\", 'description': \"Indulge in the ultimate shoe shopping spree, featuring affordable women's shoes like our sale booties, sneakers sales, and flats deals in styles you'll adore.\"}, {'position': 9, 'url': 'https://www.rackroomshoes.com/', 'title': 'Rack Room Shoes: Shoes Online with Free Shipping*', 'description': 'Shop in-store or online for name brand boots, athletic shoes, sandals and accessories for women, men and kids. FREE shipping with $65+ online purchase.'}, {'position': 10, 'url': 'https://www.nyandcompany.com/collections/shoes', 'title': \"Women's Shoes - New York & Company\", 'description': \"Shop for women's shoes at New York & Company. Choose from our collection of dress shoes for women, including high heels, sandals, flats and more.\"}], 'related_keywords': {'spelling_suggestion_html': None, 'spelling_suggestion': None, 'keywords': [{'position': 1, 'knowledge': None, 'keyword_html': 'shoes', 'keyword': 'shoes'}, {'position': 2, 'knowledge': None, 'keyword_html': 'shoes<b> for crews</b>', 'keyword': 'shoes for crews'}, {'position': 3, 'knowledge': None, 'keyword_html': 'shoes<b> near me</b>', 'keyword': 'shoes near me'}, {'position': 4, 'knowledge': {'title': None, 'label': None, 'image': None}, 'keyword_html': 'shoes<b> nyc</b>', 'keyword': 'shoes nyc'}, {'position': 5, 'knowledge': {'title': None, 'label': None, 'image': None}, 'keyword_html': 'shoes<b> brooklyn</b>', 'keyword': 'shoes brooklyn'}, {'position': 6, 'knowledge': None, 'keyword_html': 'shoes<b> for women</b>', 'keyword': 'shoes for women'}, {'position': 7, 'knowledge': None, 'keyword_html': 'shoes<b> for men</b>', 'keyword': 'shoes for men'}, {'position': 8, 'knowledge': None, 'keyword_html': 'shoes<b> stores near me</b>', 'keyword': 'shoes stores near me'}, {'position': 9, 'knowledge': None, 'keyword_html': 'shoes<b>tring fries</b>', 'keyword': 'shoestring fries'}, {'position': 10, 'knowledge': None, 'keyword_html': 'shoes<b> on sale</b>', 'keyword': 'shoes on sale'}]}}\n"
     ]
    }
   ],
   "source": [
    "import requests\n",
    "\n",
    "url = \"https://google-search74.p.rapidapi.com/\"\n",
    "\n",
    "querystring = {\"query\":\"shoes\",\"limit\":\"10\",\"related_keywords\":\"true\"}\n",
    "\n",
    "headers = {\n",
    "\t\"x-rapidapi-key\": \"85e7d0841amshe3a29d2229bb909p17f5ccjsnefcb401c476a\",\n",
    "\t\"x-rapidapi-host\": \"google-search74.p.rapidapi.com\"\n",
    "}\n",
    "\n",
    "response = requests.get(url, headers=headers, params=querystring)\n",
    "\n",
    "print(response.json())"
   ]
  },
  {
   "cell_type": "code",
   "execution_count": null,
   "metadata": {},
   "outputs": [
    {
     "name": "stdout",
     "output_type": "stream",
     "text": [
      "{'message': 'You are not subscribed to this API.'}\n"
     ]
    }
   ],
   "source": [
    "import requests\n",
    "\n",
    "url = \"https://google-search74.p.rapidapi.com/\"\n",
    "\n",
    "querystring = {\"query\":\"shoes\",\"limit\":\"10\",\"related_keywords\":\"true\"}\n",
    "\n",
    "headers = {\n",
    "\t\"x-rapidapi-key\": f\"{Config.API_KEY}\",\n",
    "\t\"x-rapidapi-host\": \"google-search74.p.rapidapi.com\"\n",
    "}\n",
    "\n",
    "response = requests.get(url, headers=headers, params=querystring)\n",
    "\n",
    "print(response.json())"
   ]
  },
  {
   "cell_type": "code",
   "execution_count": null,
   "metadata": {},
   "outputs": [],
   "source": []
  }
 ],
 "metadata": {
  "kernelspec": {
   "display_name": "Python 3",
   "language": "python",
   "name": "python3"
  },
  "language_info": {
   "codemirror_mode": {
    "name": "ipython",
    "version": 3
   },
   "file_extension": ".py",
   "mimetype": "text/x-python",
   "name": "python",
   "nbconvert_exporter": "python",
   "pygments_lexer": "ipython3",
   "version": "3.12.1"
  }
 },
 "nbformat": 4,
 "nbformat_minor": 2
}
