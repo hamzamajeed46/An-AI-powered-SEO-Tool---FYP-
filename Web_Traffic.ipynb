{
 "cells": [
  {
   "cell_type": "code",
   "execution_count": 52,
   "metadata": {},
   "outputs": [],
   "source": [
    "import http.client\n",
    "\n",
    "conn = http.client.HTTPSConnection(\"ahrefs1.p.rapidapi.com\")\n",
    "\n",
    "headers = {\n",
    "    'x-rapidapi-key': \"85e7d0841amshe3a29d2229bb909p17f5ccjsnefcb401c476a\",\n",
    "    'x-rapidapi-host': \"ahrefs1.p.rapidapi.com\"\n",
    "}\n",
    "\n",
    "conn.request(\"GET\", \"/v1/website-traffic-checker?url=ahrefs.com&mode=subdomains\", headers=headers)\n",
    "\n",
    "res = conn.getresponse()\n",
    "data = res.read()\n",
    "\n",
    "data = data.decode(\"utf-8\")\n"
   ]
  },
  {
   "cell_type": "code",
   "execution_count": 55,
   "metadata": {},
   "outputs": [],
   "source": [
    "import json\n",
    "\n",
    "json_data = json.loads(data)\n"
   ]
  },
  {
   "cell_type": "code",
   "execution_count": 56,
   "metadata": {},
   "outputs": [
    {
     "name": "stdout",
     "output_type": "stream",
     "text": [
      "{'status': 'success', 'traffic_history': [{'date': '2024-11-01', 'organic': 7657205}, {'date': '2024-12-01', 'organic': 7142367}, {'date': '2025-01-01', 'organic': 8491138}, {'date': '2025-02-01', 'organic': 8675450}, {'date': '2025-03-01', 'organic': 6094901}, {'date': '2025-04-01', 'organic': 4720325}], 'traffic': {'trafficMonthlyAvg': 4776224, 'costMontlyAvg': 319752830}, 'top_pages': [{'url': 'https://ahrefs.com/keyword-rank-checker', 'traffic': 96179, 'share': 8.139119632254877}, {'url': 'https://ahrefs.com/writing-tools/paragraph-rewriter', 'traffic': 95918, 'share': 8.117032583896934}, {'url': 'https://ahrefs.com/writing-tools/sentence-rewriter', 'traffic': 81162, 'share': 6.868310416962853}, {'url': 'https://ahrefs.com/', 'traffic': 77049, 'share': 6.520248999735971}, {'url': 'https://ahrefs.com/backlink-checker', 'traffic': 76832, 'share': 6.501885438457529}], 'top_countries': [{'country': 'us', 'share': 25.089937166581837}, {'country': 'in', 'share': 22.433887379633774}, {'country': 'pk', 'share': 6.580124481805251}, {'country': 'gb', 'share': 5.023330216424444}, {'country': 'ph', 'share': 4.085276703293294}], 'top_keywords': [{'keyword': 'ahrefs', 'position': 1, 'traffic': 60000}, {'keyword': 'sentence rewriter', 'position': 1, 'traffic': 51000}, {'keyword': 'humanize ai', 'position': 5, 'traffic': 309000}, {'keyword': 'ai rewriter', 'position': 1, 'traffic': 54000}, {'keyword': 'stream east', 'position': 12, 'traffic': 1120000}]}\n"
     ]
    }
   ],
   "source": [
    "print(json_data)"
   ]
  },
  {
   "cell_type": "code",
   "execution_count": null,
   "metadata": {},
   "outputs": [
    {
     "name": "stdout",
     "output_type": "stream",
     "text": [
      "{'message': \"Endpoint '/trafic' does not exist\"}\n"
     ]
    }
   ],
   "source": [
    "import requests\n",
    "from config import Config\n",
    "\n",
    "url = \"https://ahrefs2.p.rapidapi.com/trafic\"\n",
    "querystring = {\"url\":\"waheediqbal.info\",\"mode\":\"subdomains\"}\n",
    "\n",
    "\n",
    "headers = {\n",
    "\t\"x-rapidapi-key\": Config.API_KEY1,\n",
    "\t\"x-rapidapi-host\": \"ahrefs1.p.rapidapi.com\"\n",
    "}\n",
    "response = requests.get(url, headers=headers, params=querystring)\n",
    "\n",
    "print(response.json())"
   ]
  },
  {
   "cell_type": "code",
   "execution_count": null,
   "metadata": {},
   "outputs": [
    {
     "name": "stdout",
     "output_type": "stream",
     "text": [
      "{'search_term': 'shoes', 'knowledge_panel': None, 'results': [{'position': 1, 'url': 'https://www.dsw.com/', 'title': \"Shoes: Women's, Men's & Kids Shoes from Top Brands | DSW\", 'description': 'Find the best athletic shoes, sneakers and more at DSW. Free shipping, great deals and VIP perks. Shop the latest shoes online or at your nearest shoe\\xa0...'}, {'position': 2, 'url': 'https://www.shoesforcrews.com/?srsltid=AfmBOop2rH1ZrIgV2mUNETJODuxVgKtYA1vdE8XMH65_yxvuXoYXhOsq', 'title': 'Non-Slip Shoes For Crews® | Slip-Resistant Comfortable Work Shoes', 'description': 'Our slip- and oil-resistant outsoles are created with the traction, durability and safety features needed to get the job done across a variety of industries.'}, {'position': 3, 'url': 'https://www.adidas.com/us/shop-shoes', 'title': 'Shoes Deals: Extra 30% Off | adidas US', 'description': 'Kick off the season in style with our Spring Sale! Enjoy an extra 30% off with code DEAL. Hurry, offer ends 3/31. See offer details.'}, {'position': 4, 'url': 'https://www.nike.com/w/sale-shoes-3yaepzy7ok', 'title': 'Sale Shoes. Nike.com', 'description': \"Best Sellers Training & Gym Shoes · Running Shoes $100 and Under · Multi-Color Shoes · Baby & Toddler Sale Shoes · Men's Sale Basketball Shoes · Sale Running\\xa0...\"}, {'position': 5, 'url': 'https://www.zappos.com/shoes', 'title': 'Shoes + FREE SHIPPING - Zappos.com', 'description': 'Free shipping BOTH ways on shoes from our vast selection of styles. Fast delivery, and 24/7/365 real-person service with a smile.'}, {'position': 6, 'url': 'https://www.zappos.com/', 'title': 'Zappos.com: Shoes, Sneakers, Boots, & Clothing + FREE SHIPPING', 'description': 'GET FREE SHIPPING & RETURNS! We have 1000s of styles of shoes & Zappos legendary 365-day return policy + 24/7 friendly customer service.'}, {'position': 7, 'url': 'https://www.berluti.com/en-us/shoes/', 'title': 'Shoes for Men | Berluti US', 'description': \"From classic Oxford lace-ups and loafers to statement-making sneakers, boots and sandals, men's shoes are the ultimate expression of Berluti's luxury leather\\xa0...\"}, {'position': 8, 'url': 'https://www.katespadeoutlet.com/shop/shoes/view-all?srsltid=AfmBOoqDt4ky7IsZVyq51RiPoTn6Mi3WKKb31G8B_vByF9XmTSS014Fs', 'title': \"Women's Shoes Sale - Kate Spade Outlet\", 'description': \"Indulge in the ultimate shoe shopping spree, featuring affordable women's shoes like our sale booties, sneakers sales, and flats deals in styles you'll adore.\"}, {'position': 9, 'url': 'https://www.rackroomshoes.com/', 'title': 'Rack Room Shoes: Shoes Online with Free Shipping*', 'description': 'Shop in-store or online for name brand boots, athletic shoes, sandals and accessories for women, men and kids. FREE shipping with $65+ online purchase.'}, {'position': 10, 'url': 'https://www.nyandcompany.com/collections/shoes', 'title': \"Women's Shoes - New York & Company\", 'description': \"Shop for women's shoes at New York & Company. Choose from our collection of dress shoes for women, including high heels, sandals, flats and more.\"}], 'related_keywords': {'spelling_suggestion_html': None, 'spelling_suggestion': None, 'keywords': [{'position': 1, 'knowledge': None, 'keyword_html': 'shoes', 'keyword': 'shoes'}, {'position': 2, 'knowledge': None, 'keyword_html': 'shoes<b> for crews</b>', 'keyword': 'shoes for crews'}, {'position': 3, 'knowledge': None, 'keyword_html': 'shoes<b> near me</b>', 'keyword': 'shoes near me'}, {'position': 4, 'knowledge': {'title': None, 'label': None, 'image': None}, 'keyword_html': 'shoes<b> nyc</b>', 'keyword': 'shoes nyc'}, {'position': 5, 'knowledge': {'title': None, 'label': None, 'image': None}, 'keyword_html': 'shoes<b> brooklyn</b>', 'keyword': 'shoes brooklyn'}, {'position': 6, 'knowledge': None, 'keyword_html': 'shoes<b> for women</b>', 'keyword': 'shoes for women'}, {'position': 7, 'knowledge': None, 'keyword_html': 'shoes<b> for men</b>', 'keyword': 'shoes for men'}, {'position': 8, 'knowledge': None, 'keyword_html': 'shoes<b> stores near me</b>', 'keyword': 'shoes stores near me'}, {'position': 9, 'knowledge': None, 'keyword_html': 'shoes<b>tring fries</b>', 'keyword': 'shoestring fries'}, {'position': 10, 'knowledge': None, 'keyword_html': 'shoes<b> on sale</b>', 'keyword': 'shoes on sale'}]}}\n"
     ]
    }
   ],
   "source": [
    "import requests\n",
    "\n",
    "url = \"https://google-search74.p.rapidapi.com/\"\n",
    "\n",
    "querystring = {\"query\":\"shoes\",\"limit\":\"10\",\"related_keywords\":\"true\"}\n",
    "\n",
    "headers = {\n",
    "\t\"x-rapidapi-key\": Config.API_KEY1,\n",
    "\t\"x-rapidapi-host\": \"google-search74.p.rapidapi.com\"\n",
    "}\n",
    "\n",
    "response = requests.get(url, headers=headers, params=querystring)\n",
    "\n",
    "print(response.json())"
   ]
  },
  {
   "cell_type": "code",
   "execution_count": null,
   "metadata": {},
   "outputs": [
    {
     "name": "stdout",
     "output_type": "stream",
     "text": [
      "{'message': 'You are not subscribed to this API.'}\n"
     ]
    }
   ],
   "source": [
    "import requests\n",
    "\n",
    "url = \"https://google-search74.p.rapidapi.com/\"\n",
    "\n",
    "querystring = {\"query\":\"shoes\",\"limit\":\"10\",\"related_keywords\":\"true\"}\n",
    "\n",
    "headers = {\n",
    "\t\"x-rapidapi-key\": {Config.API_KEY1},\n",
    "\t\"x-rapidapi-host\": \"google-search74.p.rapidapi.com\"\n",
    "}\n",
    "\n",
    "response = requests.get(url, headers=headers, params=querystring)\n",
    "\n",
    "print(response.json())"
   ]
  },
  {
   "cell_type": "code",
   "execution_count": 6,
   "metadata": {},
   "outputs": [
    {
     "data": {
      "text/plain": [
       "<generator object search at 0x00000153D1B38CF0>"
      ]
     },
     "execution_count": 6,
     "metadata": {},
     "output_type": "execute_result"
    }
   ],
   "source": [
    "from googlesearch import search\n",
    "\n",
    "search(\"Google\", region=\"us\", lang=\"en\")"
   ]
  },
  {
   "cell_type": "code",
   "execution_count": null,
   "metadata": {},
   "outputs": [
    {
     "name": "stdout",
     "output_type": "stream",
     "text": [
      "https://www.fotor.com/features/image-to-image/\n",
      "https://www.artguru.ai/ai-art-generator-from-photo/\n",
      "https://www.convertfiles.ai/\n",
      "https://getimg.ai/features/image-to-image\n",
      "https://www.canva.com/features/image-converter/\n",
      "https://www.vertopal.com/en/convert/jpg-to-ai\n",
      "https://deepai.org/machine-learning-model/text2img\n",
      "https://pixlr.com/\n",
      "https://convertio.co/jpg-ai/\n",
      "https://www.adobe.com/products/firefly/features/image-to-image.html\n"
     ]
    }
   ],
   "source": [
    "x = search(\"image converter ai\", region=\"pk\",num_results=10, lang=\"en\")\n",
    "for result in x:\n",
    "    print(result)"
   ]
  },
  {
   "cell_type": "code",
   "execution_count": 27,
   "metadata": {},
   "outputs": [
    {
     "name": "stdout",
     "output_type": "stream",
     "text": [
      "https://realpython.com/python-web-scraping-practical-introduction/\n",
      "https://www.ionos.fr/digitalguide/sites-internet/developpement-web/web-scraping-avec-python/\n",
      "https://www.scrapingbee.com/blog/web-scraping-101-with-python/\n",
      "https://www.data-bird.co/blog/web-scraping-python\n",
      "https://brightdata.com/blog/how-tos/web-scraping-with-python\n",
      "https://www.youtube.com/watch?v=HCV6nEACQo4\n",
      "https://www.youtube.com/watch?v=8dTpNajxaH0\n",
      "https://oxylabs.io/blog/python-web-scraping\n",
      "https://www.reddit.com/r/learnpython/comments/qzr8ir/how_to_start_web_scraping_with_python/\n",
      "https://www.youtube.com/watch?v=DcI_AZqfZVc\n"
     ]
    }
   ],
   "source": [
    "x = search(\"Python web scraping tutorial\", region=\"fr\",num_results=10, lang=\"fr\")\n",
    "for result in x:\n",
    "    print(result)"
   ]
  },
  {
   "cell_type": "code",
   "execution_count": 32,
   "metadata": {},
   "outputs": [
    {
     "name": "stdout",
     "output_type": "stream",
     "text": [
      "https://www.w3schools.com/dsa/\n",
      "https://www.tutorialspoint.com/dsa_using_java/index.htm\n",
      "https://www.youtube.com/playlist?list=PL9gnSGHSqcnr_DxHsP7AW9ftq0AtAyYqJ\n",
      "https://www.youtube.com/watch?v=clKBWNdDE5c\n",
      "https://www.programiz.com/dsa\n",
      "https://www.tutorialspoint.com/data_structures_algorithms/index.htm\n",
      "https://www.reddit.com/r/learnjava/comments/15xy14o/best_resources_to_learn_dsa_in_java/\n",
      "https://www.codechef.com/roadmap/java-dsa\n",
      "https://techdevguide.withgoogle.com/paths/data-structures-and-algorithms/\n",
      "https://www.youtube.com/watch?v=xWLxhF3b5P8\n"
     ]
    }
   ],
   "source": [
    "x = search(\"dsa java tutorial\", region=\"uk\",num_results=10, lang=\"en\")\n",
    "for result in x:\n",
    "    print(result)"
   ]
  },
  {
   "cell_type": "code",
   "execution_count": 37,
   "metadata": {},
   "outputs": [
    {
     "name": "stdout",
     "output_type": "stream",
     "text": [
      "None\n",
      "pk\n"
     ]
    }
   ],
   "source": [
    "import pycountry\n",
    "\n",
    "def get_country_code(full_name):\n",
    "    try:\n",
    "        country = pycountry.countries.lookup(full_name)\n",
    "        return country.alpha_2.lower()  # Convert to lowercase for Google Search\n",
    "    except LookupError:\n",
    "        return None  # Return None if country not found\n",
    "\n",
    "# Example usage\n",
    "print(get_country_code(\"uk\"))  # Output: \"gb\"\n",
    "print(get_country_code(\"Pakistan\"))        # Output: \"pk\"\n"
   ]
  },
  {
   "cell_type": "code",
   "execution_count": null,
   "metadata": {},
   "outputs": [],
   "source": []
  }
 ],
 "metadata": {
  "kernelspec": {
   "display_name": "Python 3",
   "language": "python",
   "name": "python3"
  },
  "language_info": {
   "codemirror_mode": {
    "name": "ipython",
    "version": 3
   },
   "file_extension": ".py",
   "mimetype": "text/x-python",
   "name": "python",
   "nbconvert_exporter": "python",
   "pygments_lexer": "ipython3",
   "version": "3.12.1"
  }
 },
 "nbformat": 4,
 "nbformat_minor": 2
}
