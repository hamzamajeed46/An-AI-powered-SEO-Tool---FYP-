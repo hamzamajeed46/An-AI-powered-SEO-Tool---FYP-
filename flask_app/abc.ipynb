{
 "cells": [
  {
   "cell_type": "code",
   "execution_count": null,
   "metadata": {},
   "outputs": [],
   "source": [
    "from backlinks import fetch_backlinks\n",
    "from compitator import generate_groq_recommendations\n",
    "def compare_backlinks(main_website, competitor_website):\n",
    "    \"\"\"\n",
    "    Compare backlinks data between two websites and generate recommendations using Groq LLM.\n",
    "    \"\"\"\n",
    "    main_backlinks = fetch_backlinks(main_website)\n",
    "    competitor_backlinks = fetch_backlinks(competitor_website)\n",
    "\n",
    "    # Check if any error occurred\n",
    "    if \"error\" in main_backlinks:\n",
    "        return {\"error\": f\"Error fetching data for {main_website}: {main_backlinks['error']}\"}\n",
    "    if \"error\" in competitor_backlinks:\n",
    "        return {\"error\": f\"Error fetching data for {competitor_website}: {competitor_backlinks['error']}\"}\n",
    "\n",
    "    # Generate recommendations using Groq LLM\n",
    "    recommendations = generate_groq_recommendations(main_backlinks, competitor_backlinks)\n",
    "\n",
    "    return {\n",
    "        \"main_backlinks\": main_backlinks,\n",
    "        \"competitor_backlinks\": competitor_backlinks,\n",
    "        \"recommendations\": recommendations\n",
    "    }"
   ]
  },
  {
   "cell_type": "code",
   "execution_count": 3,
   "metadata": {},
   "outputs": [
    {
     "ename": "NameError",
     "evalue": "name 'generate_groq_recommendations' is not defined",
     "output_type": "error",
     "traceback": [
      "\u001b[1;31m---------------------------------------------------------------------------\u001b[0m",
      "\u001b[1;31mNameError\u001b[0m                                 Traceback (most recent call last)",
      "Cell \u001b[1;32mIn[3], line 1\u001b[0m\n\u001b[1;32m----> 1\u001b[0m \u001b[38;5;28mprint\u001b[39m(\u001b[43mcompare_backlinks\u001b[49m\u001b[43m(\u001b[49m\u001b[38;5;124;43m\"\u001b[39;49m\u001b[38;5;124;43mengine.com.pk\u001b[39;49m\u001b[38;5;124;43m\"\u001b[39;49m\u001b[43m,\u001b[49m\u001b[43m \u001b[49m\u001b[38;5;124;43m\"\u001b[39;49m\u001b[38;5;124;43mequatorstores.com\u001b[39;49m\u001b[38;5;124;43m\"\u001b[39;49m\u001b[43m)\u001b[49m)\n",
      "Cell \u001b[1;32mIn[1], line 16\u001b[0m, in \u001b[0;36mcompare_backlinks\u001b[1;34m(main_website, competitor_website)\u001b[0m\n\u001b[0;32m     13\u001b[0m     \u001b[38;5;28;01mreturn\u001b[39;00m {\u001b[38;5;124m\"\u001b[39m\u001b[38;5;124merror\u001b[39m\u001b[38;5;124m\"\u001b[39m: \u001b[38;5;124mf\u001b[39m\u001b[38;5;124m\"\u001b[39m\u001b[38;5;124mError fetching data for \u001b[39m\u001b[38;5;132;01m{\u001b[39;00mcompetitor_website\u001b[38;5;132;01m}\u001b[39;00m\u001b[38;5;124m: \u001b[39m\u001b[38;5;132;01m{\u001b[39;00mcompetitor_backlinks[\u001b[38;5;124m'\u001b[39m\u001b[38;5;124merror\u001b[39m\u001b[38;5;124m'\u001b[39m]\u001b[38;5;132;01m}\u001b[39;00m\u001b[38;5;124m\"\u001b[39m}\n\u001b[0;32m     15\u001b[0m \u001b[38;5;66;03m# Generate recommendations using Groq LLM\u001b[39;00m\n\u001b[1;32m---> 16\u001b[0m recommendations \u001b[38;5;241m=\u001b[39m \u001b[43mgenerate_groq_recommendations\u001b[49m(main_backlinks, competitor_backlinks)\n\u001b[0;32m     18\u001b[0m \u001b[38;5;28;01mreturn\u001b[39;00m {\n\u001b[0;32m     19\u001b[0m     \u001b[38;5;124m\"\u001b[39m\u001b[38;5;124mmain_backlinks\u001b[39m\u001b[38;5;124m\"\u001b[39m: main_backlinks,\n\u001b[0;32m     20\u001b[0m     \u001b[38;5;124m\"\u001b[39m\u001b[38;5;124mcompetitor_backlinks\u001b[39m\u001b[38;5;124m\"\u001b[39m: competitor_backlinks,\n\u001b[0;32m     21\u001b[0m     \u001b[38;5;124m\"\u001b[39m\u001b[38;5;124mrecommendations\u001b[39m\u001b[38;5;124m\"\u001b[39m: recommendations\n\u001b[0;32m     22\u001b[0m }\n",
      "\u001b[1;31mNameError\u001b[0m: name 'generate_groq_recommendations' is not defined"
     ]
    }
   ],
   "source": [
    "print(compare_backlinks(\"engine.com.pk\", \"equatorstores.com\"))"
   ]
  },
  {
   "cell_type": "code",
   "execution_count": null,
   "metadata": {},
   "outputs": [],
   "source": []
  }
 ],
 "metadata": {
  "kernelspec": {
   "display_name": "Python 3",
   "language": "python",
   "name": "python3"
  },
  "language_info": {
   "codemirror_mode": {
    "name": "ipython",
    "version": 3
   },
   "file_extension": ".py",
   "mimetype": "text/x-python",
   "name": "python",
   "nbconvert_exporter": "python",
   "pygments_lexer": "ipython3",
   "version": "3.12.1"
  }
 },
 "nbformat": 4,
 "nbformat_minor": 2
}
