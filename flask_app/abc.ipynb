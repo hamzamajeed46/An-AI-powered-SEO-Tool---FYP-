{
 "cells": [
  {
   "cell_type": "code",
   "execution_count": 45,
   "metadata": {},
   "outputs": [],
   "source": [
    "import requests\n",
    "from langchain_groq import ChatGroq\n",
    "from markdown import markdown\n",
    "from config import Config \n",
    "\n",
    "# Function to call the Ahrefs API and fetch backlinks data\n",
    "def fetch_backlinks(input_web):\n",
    "    \"\"\"\n",
    "    Fetch backlinks data from Ahrefs API.\n",
    "\n",
    "    Args:\n",
    "        input_web (str): The website URL to analyze.\n",
    "\n",
    "    Returns:\n",
    "        dict: Backlinks data or an error message.\n",
    "    \"\"\"\n",
    "    url = \"https://ahrefs2.p.rapidapi.com/backlinks\"\n",
    "    querystring = {\"url\": input_web, \"mode\": \"subdomains\"}\n",
    "\n",
    "    headers = {\n",
    "        \"x-rapidapi-key\": os.getenv('API_KEY1'),\n",
    "        \"x-rapidapi-host\": \"ahrefs2.p.rapidapi.com\"\n",
    "    }\n",
    "\n",
    "    response = requests.get(url, headers=headers, params=querystring)\n",
    "\n",
    "    if response.status_code == 200:\n",
    "        return response.json()  # Return the JSON response\n",
    "    else:\n",
    "        return {\"error\": f\"Failed to fetch data. Status Code: {response.status_code}\"}\n"
   ]
  },
  {
   "cell_type": "code",
   "execution_count": 46,
   "metadata": {},
   "outputs": [
    {
     "name": "stdout",
     "output_type": "stream",
     "text": [
      "{'status': 'success', 'url': 'engine.com.pk', 'domainRating': 33, 'urlRating': 20, 'backlinks': 1871, 'refdomains': 387, 'dofollowBacklinks': 805, 'dofollowRefdomains': 248, 'backlinksList': [{'url': 'https://nishatemporium.com/directory/', 'title': 'Brands and Restraunt List | Nishat Emporium | Lahore', 'domain_rating': 25, 'target_url': 'https://www.engine.com.pk/', 'anchor': 'engineclothing.com', 'summary': ' ', 'link': ''}, {'url': 'https://www.beingguru.com/black-friday-sale-pakistan/', 'title': 'Here are the best deals on black Friday sale in Pakistan', 'domain_rating': 55, 'target_url': 'https://engine.com.pk/', 'anchor': 'Take advantage of a straight 40% off everything, including the newest merchandise.', 'summary': 'Right now is the Blessed Friday Sale on ENGINE Clothing! These discounts are available online and in-store. We’re not sure', 'link': ''}, {'url': 'https://www.aftership.com/brands/engine.com.pk', 'title': 'Engine Official Order Tracking & Tech Stack - AfterShip', 'domain_rating': 90, 'target_url': 'https://engine.com.pk/pages/exchanges?ref=aftership', 'anchor': 'https://engine.com.pk/pages/exchanges', 'summary': ' ', 'link': ''}, {'url': 'https://www.citysearch.pk/engine-lahore', 'title': 'ENGINE - Online Shopping - Gajju Matah - Lahore | citysearch.pk', 'domain_rating': 18, 'target_url': 'https://engine.com.pk/', 'anchor': 'Visit Website', 'summary': ' ', 'link': '[{\"url\":\"https://www.citysearch.pk/ad.aspx?id=12947&type=we&link=https://engine.com.pk/\",\"urlNew\":\"None\",\"redirectCode\":302,\"mustBeGray\":false,\"httpCodeCross\":false,\"chainDestinationChanged\":false,\"hasDelReason\":false,\"delReasonTitle\":\"None\",\"delReasonKey\":\"None\",\"lostRedirectReason\":\"None\",\"isLost\":true}]'}, {'url': 'https://thecentaurusmall.com/team/engine/', 'title': 'Engine - The Centaurus Mall', 'domain_rating': 27, 'target_url': 'https://engine.com.pk/', 'anchor': '', 'summary': ' ', 'link': ''}, {'url': 'https://about.me/engineclothing', 'title': 'Engine Clothing - Lahore | about.me', 'domain_rating': 91, 'target_url': 'https://www.engine.com.pk/', 'anchor': 'Engine', 'summary': 'the trendsetter for the upcoming generation (Men, Women & Kids). is modern fashion for the speed of life. Catering to', 'link': ''}, {'url': 'https://alitech.io/blog/blessed-friday-sale-in-pakistan-2024/', 'title': 'Blessed Friday Sale in Pakistan 2024 - AliTech', 'domain_rating': 27, 'target_url': 'https://engine.com.pk/pages/blessed-friday-sale', 'anchor': 'Engine Official.', 'summary': 'men, women, and kids. Dive into their collection now at ', 'link': ''}, {'url': 'https://www.webpagedepot.com/engine-lahore-4570', 'title': 'Engine - Lahore | Retail - Clothes and Accessories', 'domain_rating': 38, 'target_url': 'https://engine.com.pk/', 'anchor': 'Alternate Link', 'summary': ' ', 'link': '[{\"url\":\"https://www.engine.com.pk/\",\"urlNew\":\"None\",\"redirectCode\":301,\"mustBeGray\":false,\"httpCodeCross\":false,\"chainDestinationChanged\":false,\"hasDelReason\":false,\"delReasonTitle\":\"None\",\"delReasonKey\":\"None\",\"lostRedirectReason\":\"None\",\"isLost\":true}]'}, {'url': 'https://salerozana.com/engine-mens-collection-1414', 'title': \"ENGINE - Men's Collection\", 'domain_rating': 0, 'target_url': 'https://engine.com.pk/pages/men', 'anchor': 'Go To Sale', 'summary': ' ', 'link': ''}, {'url': 'https://fashon.blog/azadi-sales-on-clothing-brands/', 'title': 'Independence Day Sale 2024 - Top 10 Brands - Azadi Sales', 'domain_rating': 21, 'target_url': 'https://engine.com.pk/collections/sale', 'anchor': 'Click Here', 'summary': 'Shop Now: ', 'link': ''}, {'url': 'https://www.sitelike.org/similar/outfitters.com.pk/', 'title': 'Top 31 similar sites like outfitters.com.pk and outfitters.com alternatives', 'domain_rating': 71, 'target_url': 'https://engine.com.pk/', 'anchor': 'engine.com.pk', 'summary': 'engine.com.pk ', 'link': ''}, {'url': 'https://pakistanbrands.com/engine-clothing-lahore-and-faisalabad/', 'title': 'Engine Clothing Lahore and Faisalabad -', 'domain_rating': 4, 'target_url': 'https://engine.com.pk/', 'anchor': 'Engine Clothing', 'summary': 'Uncover the fashion world of in Lahore and Faisalabad: Where quality meets style.', 'link': ''}, {'url': 'https://carproforum.com/member.php?22811-adnanengine', 'title': \"View Profile: adnanengine - Sky's the Limit Auto Detailing Discussion Forum\", 'domain_rating': 32, 'target_url': 'https://engine.com.pk/collections/sale', 'anchor': 'Home Page Home Page', 'summary': ' ', 'link': ''}, {'url': 'https://prime.itxoft.com/effective-seo-link-building-itxoft-13235/', 'title': 'Effective On-Page SEO Techniques: Insights from iTxoft', 'domain_rating': 82, 'target_url': 'https://engine.com.pk/', 'anchor': 'engine.com.pk, unstoppable growth is unstoppable evolution—iTxoft.com paves the way.', 'summary': ' ', 'link': ''}, {'url': 'https://3dprintboard.com/member.php?125688-adnan-engine', 'title': 'View Profile: adnan.engine - 3D Printing Forum - 3D Print Board', 'domain_rating': 68, 'target_url': 'https://engine.com.pk/', 'anchor': 'https://engine.com.pk/', 'summary': ' ', 'link': ''}, {'url': 'https://emperiortech.com/big-savings-on-kids-must-haves-at-engine/', 'title': 'Big Savings on Kids Must-Haves at ENGINE - Emperiortech', 'domain_rating': 38, 'target_url': 'https://engine.com.pk/blogs/news/engine-summer-sale-2024-flat-50-off', 'anchor': 'Summer Sale 2024 with flat 50 off', 'summary': 'your kids in trendy yet practical outfits. That’s why our stands out as a must-visit event for parents and guardians', 'link': ''}, {'url': 'https://myleadfox.com/blog/category/apparel/pk/punjab', 'title': 'Apparel Stores in Punjab - My Lead Fox', 'domain_rating': 17, 'target_url': 'https://engine.com.pk/', 'anchor': 'https://engine.com.pk', 'summary': ' ', 'link': ''}, {'url': 'https://topmillionwebdirectory.com/most-visited-site-112/', 'title': 'most visited site 112 |', 'domain_rating': 68, 'target_url': 'https://engine.com.pk/', 'anchor': 'engine.com.pk', 'summary': ' ', 'link': ''}, {'url': 'https://universeofsoftware.com/2022/08/bookmarking-demon-5-6-1-3/', 'title': 'Bookmarking Demon 5.6.1.3 Free Download - Best Software Pre Cracked Free Download', 'domain_rating': 9, 'target_url': 'https://engine.com.pk/?gclid=EAIaIQobChMI5NGS5MOs-QIVBIfVCh00kglGEAAYASAAEgL_vfD_BwE', 'anchor': 'engine', 'summary': ' ', 'link': ''}, {'url': 'https://websitehubdirectory.com/most-visited-site-112/', 'title': 'most visited site 112 |', 'domain_rating': 70, 'target_url': 'https://engine.com.pk/', 'anchor': 'engine.com.pk', 'summary': ' ', 'link': ''}]}\n"
     ]
    }
   ],
   "source": [
    "print(fetch_backlinks(\"engine.com.pk\"))"
   ]
  },
  {
   "cell_type": "code",
   "execution_count": null,
   "metadata": {},
   "outputs": [],
   "source": []
  }
 ],
 "metadata": {
  "kernelspec": {
   "display_name": "Python 3",
   "language": "python",
   "name": "python3"
  },
  "language_info": {
   "codemirror_mode": {
    "name": "ipython",
    "version": 3
   },
   "file_extension": ".py",
   "mimetype": "text/x-python",
   "name": "python",
   "nbconvert_exporter": "python",
   "pygments_lexer": "ipython3",
   "version": "3.12.1"
  }
 },
 "nbformat": 4,
 "nbformat_minor": 2
}
