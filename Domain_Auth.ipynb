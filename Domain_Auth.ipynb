{
 "cells": [
  {
   "cell_type": "code",
   "execution_count": 1,
   "metadata": {},
   "outputs": [
    {
     "name": "stdout",
     "output_type": "stream",
     "text": [
      "{'domain': 'waheediqbal.info', 'domain_rating': 0.1, 'ahrefs_rank': 111937119}\n"
     ]
    }
   ],
   "source": [
    "import requests\n",
    "\n",
    "url = \"https://ahrefs-api.p.rapidapi.com/check-dr-ar\"\n",
    "\n",
    "querystring = {\"domain\":\"waheediqbal.info\"}\n",
    "\n",
    "headers = {\n",
    "\t\"x-rapidapi-key\": \"85e7d0841amshe3a29d2229bb909p17f5ccjsnefcb401c476a\",\n",
    "\t\"x-rapidapi-host\": \"ahrefs-api.p.rapidapi.com\"\n",
    "}\n",
    "\n",
    "result = requests.get(url, headers=headers, params=querystring)\n",
    "\n",
    "print(result.json())"
   ]
  },
  {
   "cell_type": "code",
   "execution_count": 2,
   "metadata": {},
   "outputs": [],
   "source": [
    "import markdown\n",
    "from langchain_groq import ChatGroq\n",
    "\n",
    "# Initialize the ChatGroq LLM\n",
    "llm = ChatGroq(\n",
    "    temperature = 0,\n",
    "    groq_api_key = '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',\n",
    "    model_name = \"llama-3.3-70b-versatile\"\n",
    ")\n",
    "\n",
    "\n",
    "# Construct the prompt\n",
    "prompt = (\n",
    "    \"Analyze the following website domain authority data and provide SEO recommendations \"\n",
    "    \"for the client to improve their domain authority of website.\"\n",
    "    \"\\n\\n\"\n",
    "    f\"{result.json()}\\n\"\n",
    "    \"\\nProvide specific and actionable recommendations only for the client.\"\n",
    ")\n",
    "\n",
    "\n",
    "# Invoke the LLM\n",
    "response = llm.invoke(prompt)"
   ]
  },
  {
   "cell_type": "code",
   "execution_count": 3,
   "metadata": {},
   "outputs": [
    {
     "name": "stdout",
     "output_type": "stream",
     "text": [
      "Based on the provided domain authority data, here are some specific and actionable SEO recommendations for the client to improve their domain authority:\n",
      "\n",
      "1. **High-Quality Backlink Acquisition**: With a domain rating of 0.1, the website lacks high-quality backlinks. Focus on acquiring backlinks from authoritative sources (DR 50+), such as:\n",
      "\t* Guest blogging on relevant niche websites\n",
      "\t* Participating in expert interviews or podcasts\n",
      "\t* Creating linkable assets (e.g., eBooks, whitepapers, or webinars)\n",
      "\t* Leveraging broken link building or resource page link building\n",
      "2. **Content Creation and Optimization**: Develop a content strategy that targets relevant keywords and provides value to users. This includes:\n",
      "\t* Creating high-quality, engaging, and informative content (blog posts, articles, or guides)\n",
      "\t* Optimizing on-page elements (title tags, meta descriptions, headings, and internal linking)\n",
      "\t* Using keyword research tools to identify relevant and high-traffic keywords\n",
      "3. **Technical SEO Audit and Improvement**: Ensure the website is technically sound and follows best practices:\n",
      "\t* Conduct a technical SEO audit to identify and fix issues (e.g., page speed, mobile responsiveness, SSL, and XML sitemap)\n",
      "\t* Implement schema markup to enhance search engine understanding of the website's content\n",
      "\t* Use a reliable website hosting service and consider a content delivery network (CDN) for improved page speed\n",
      "4. **Local SEO (if applicable)**: If the website targets a specific geographic region, optimize for local SEO:\n",
      "\t* Claim and verify the Google My Business listing\n",
      "\t* Ensure consistency in name, address, and phone number (NAP) across the web\n",
      "\t* Create content that targets local keywords and phrases\n",
      "5. **Regular Content Updates and Promotion**: Regularly update the website with fresh, high-quality content and promote it through various channels:\n",
      "\t* Publish new content at least once a week\n",
      "\t* Share content on social media platforms and engage with the audience\n",
      "\t* Participate in online communities related to the niche to build relationships and promote the website\n",
      "\n",
      "By implementing these recommendations, the client can improve their domain authority, increase their online visibility, and drive more traffic to their website.\n"
     ]
    }
   ],
   "source": [
    "print(response.content)"
   ]
  },
  {
   "cell_type": "code",
   "execution_count": 4,
   "metadata": {},
   "outputs": [
    {
     "name": "stdout",
     "output_type": "stream",
     "text": [
      "{'status': 'success', 'url': 'pucit.edu.pk', 'domainRating': 33, 'urlRating': 18, 'backlinks': 1767, 'refdomains': 434, 'dofollowBacklinks': 60, 'dofollowRefdomains': 50, 'backlinksList': [{'url': 'https://en.wikipedia.org/wiki/List_of_Pakistanis', 'title': 'List of Pakistanis - Wikipedia', 'domain_rating': 96, 'target_url': 'http://faculty.pucit.edu.pk/swjaffry/', 'anchor': '\"Dr. Waqar ul Qounain - Home Page\"', 'summary': ' .faculty.pucit.edu.pk', 'link': ''}, {'url': 'https://pu.edu.pk/page/show/Past-Papers-babsc.html', 'title': 'University of the Punjab - Past Papers of B.A. B.Sc.', 'domain_rating': 71, 'target_url': 'http://pucit.edu.pk/contact-u-spucit.html', 'anchor': 'Guide Map (Old Campus)', 'summary': ' ', 'link': ''}, {'url': 'https://medicaladmissionpk.com/medical-fields-without-mdcat-in-pakistan/', 'title': 'Medical Fields Without MDCAT in Pakistan - MEDICAL ADMISSIONS', 'domain_rating': 0, 'target_url': 'https://pucit.edu.pk/', 'anchor': 'Punjab University College of Information Technology (PUCIT), Lahore', 'summary': ' ', 'link': ''}, {'url': 'https://pnb.wikipedia.org/wiki/%D9%BE%D9%86%D8%AC%D8%A7%D8%A8_%DB%8C%D9%88%D9%86%DB%8C%D9%88%D8%B1%D8%B3%D9%B9%DB%8C', 'title': 'پنجاب یونیورسٹی - وکیپیڈیا', 'domain_rating': 84, 'target_url': 'https://pucit.edu.pk/', 'anchor': 'کالج آف انفارمیشن ٹیکنالوجی', 'summary': ' ', 'link': '[{\"url\":\"http://www.pucit.edu.pk/\",\"urlNew\":\"None\",\"redirectCode\":301,\"mustBeGray\":false,\"httpCodeCross\":false,\"chainDestinationChanged\":false,\"hasDelReason\":false,\"delReasonTitle\":\"None\",\"delReasonKey\":\"None\",\"lostRedirectReason\":\"None\",\"isLost\":true}]'}, {'url': 'https://devsdata.com/top-it-recruitment-agencies-lahore/', 'title': 'Top 5 IT Recruitment Agencies In Lahore, Pakistan', 'domain_rating': 71, 'target_url': 'https://pucit.edu.pk/', 'anchor': 'Punjab University College of Information Technology (PUCIT)', 'summary': ' (~3,000 students)', 'link': ''}, {'url': 'https://www.urduweb.org/mehfil/threads/%D8%AE%D8%AF%D8%A7-%D9%86%DB%92-%D8%A2%D8%AC-%D8%AA%DA%A9-%D8%A7%D8%B3-%D9%82%D9%88%D9%85-%DA%A9%DB%8C-%D8%AD%D8%A7%D9%84%D8%AA-%D9%86%DB%81%DB%8C%DA%BA-%D8%A8%D8%AF%D9%84%DB%8C%DB%94%DB%94%DB%94%DB%94%D8%A7%D8%B3-%D8%B4%D8%B9%D8%B1-%DA%A9%DB%92-%D8%B4%D8%A7%D8%B9%D8%B1-%DA%A9%D8%A7-%D9%86%D8%A7%D9%85%D8%9F.81633/', 'title': 'خدا نے آج تک اس قوم کی حالت نہیں بدلی۔۔۔۔اس شعر کے شاعر کا نام؟ | اردو محفل فورم', 'domain_rating': 36, 'target_url': 'http://zamindar.pucit.edu.pk/DATA/January%201924/19240105/', 'anchor': 'Zamindar Newspaper', 'summary': ' ', 'link': ''}, {'url': 'https://www.csinfo.pk/bs-computer-science-books/', 'title': 'BS Computer Science Books - Download BSCS Books For Free', 'domain_rating': 4, 'target_url': 'https://pucit.edu.pk/bs-computer-science/', 'anchor': 'PUCIT Official Site.', 'summary': 'computing. You can getScheme of Studiesfor BS Computer Science on You can get all computer science books here below.', 'link': ''}, {'url': 'https://onlinebooks.library.upenn.edu/serials.html', 'title': 'Free online journals, magazines, newspapers, and other serials | The Online Books Page', 'domain_rating': 91, 'target_url': 'http://inquilab.pucit.edu.pk/', 'anchor': 'Inqilab (Lahore-based Urdu daily newspaper; issues online 1928-1941)', 'summary': ' (partial serial archives)', 'link': ''}, {'url': 'https://clutch.co/profile/ebryx', 'title': 'Ebryx, 9 Reviews, Address, Data & More', 'domain_rating': 90, 'target_url': 'https://pucit.edu.pk/job-opportunities-for-alumni-fresh-grads-at-ebryx/', 'anchor': 'Job Opportunities for Alumni & Fresh Grad at Ebryx', 'summary': ' ', 'link': ''}, {'url': 'https://orcid.org/0000-0002-9470-2120', 'title': 'Muhammad Nazar Khan (0000-0002-9470-2120) - ORCID', 'domain_rating': 91, 'target_url': 'http://faculty.pucit.edu.pk/nazarkhan/', 'anchor': 'http://faculty.pucit.edu.pk/nazarkhan/', 'summary': ' ', 'link': ''}, {'url': 'https://ipfs.io/ipfs/QmXoypizjW3WknFiJnKLwHCnL72vedxjQkDDP1mXWo6uco/wiki/University_of_the_Punjab.html', 'title': 'University of the Punjab', 'domain_rating': 83, 'target_url': 'http://www.pucit.edu.pk/index.php/features', 'anchor': 'Faculty of Information Technology', 'summary': ' ', 'link': ''}, {'url': 'https://goodnames.eth.limo/wiki/University_of_the_Punjab.html', 'title': 'University of the Punjab', 'domain_rating': 76, 'target_url': 'http://www.pucit.edu.pk/index.php/features', 'anchor': 'Faculty of Information Technology', 'summary': ' ', 'link': ''}, {'url': 'https://www.epicroadtrips.us/2003/summer/nola/nola_offsite/FQ_en.wikipedia.org/en.wikipedia.org/wiki/Pakistan.html', 'title': 'Pakistan - Wikipedia, the free encyclopedia', 'domain_rating': 28, 'target_url': 'https://pucit.edu.pk/', 'anchor': 'PUCIT-Punjab University College of information Technology,University of the Punjab,Lahore', 'summary': ' ', 'link': '[{\"url\":\"http://www.pucit.edu.pk/\",\"urlNew\":\"None\",\"redirectCode\":301,\"mustBeGray\":false,\"httpCodeCross\":false,\"chainDestinationChanged\":false,\"hasDelReason\":false,\"delReasonTitle\":\"None\",\"delReasonKey\":\"None\",\"lostRedirectReason\":\"None\",\"isLost\":true}]'}, {'url': 'https://pa.wikipedia.org/wiki/%E0%A8%AA%E0%A9%B0%E0%A8%9C%E0%A8%BE%E0%A8%AC_%E0%A8%AF%E0%A9%82%E0%A8%A8%E0%A9%80%E0%A8%B5%E0%A8%B0%E0%A8%B8%E0%A8%BF%E0%A8%9F%E0%A9%80,_%E0%A8%B2%E0%A8%B9%E0%A9%8C%E0%A8%B0', 'title': 'ਪੰਜਾਬ ਯੂਨੀਵਰਸਿਟੀ, ਲਹੌਰ - ਵਿਕੀਪੀਡੀਆ, ਇਕ ਅਜ਼ਾਦ ਵਿਸ਼ਵਗਿਆਨਕੋਸ਼', 'domain_rating': 84, 'target_url': 'http://www.pucit.edu.pk/', 'anchor': 'ਕਾਲਜ ਆਫ਼ ਇਨਫ਼ਾਰਮੀਸ਼ਨ ਟੈਕਨਾਲੋਜੀ', 'summary': ' ', 'link': ''}, {'url': 'https://gateway.ipfs.cybernode.ai/ipfs/QmXoypizjW3WknFiJnKLwHCnL72vedxjQkDDP1mXWo6uco/wiki/University_of_the_Punjab.html', 'title': 'University of the Punjab', 'domain_rating': 7, 'target_url': 'http://www.pucit.edu.pk/index.php/features', 'anchor': 'Faculty of Information Technology', 'summary': ' ', 'link': ''}, {'url': 'http://home.bway.net/lewis/', 'title': 'Fermat, Computer Algebra System', 'domain_rating': 59, 'target_url': 'http://faculty.pucit.edu.pk/nazarkhan/work/pose_estimation/masterThesisNazar.pdf', 'anchor': 'download pdf version.', 'summary': 'Surfaces\", Master Thesis, Saarland University, Germany, 2007. advisor: Bodo Rosenhahn. ', 'link': ''}, {'url': 'https://nzt.eth.link/wiki/University_of_the_Punjab.html', 'title': 'University of the Punjab', 'domain_rating': 72, 'target_url': 'http://pucit.edu.pk/features', 'anchor': 'Faculty of Information Technology', 'summary': ' ', 'link': '[{\"url\":\"http://www.pucit.edu.pk/index.php/features\",\"urlNew\":\"None\",\"redirectCode\":301,\"mustBeGray\":false,\"httpCodeCross\":false,\"chainDestinationChanged\":false,\"hasDelReason\":false,\"delReasonTitle\":\"None\",\"delReasonKey\":\"None\",\"lostRedirectReason\":\"None\",\"isLost\":true}]'}, {'url': 'https://blog.csdn.net/WZZ18191171661/article/details/101116949', 'title': '直线检测算法汇总-CSDN博客', 'domain_rating': 91, 'target_url': 'http://faculty.pucit.edu.pk/nailah/research/LSM/LSM%20Demo.zip', 'anchor': '代码链接', 'summary': 'LSM- 项目主页 - 论文链接 - ', 'link': ''}, {'url': 'https://www.orangehrmlive.com/es/resources/blog/meeting-module-from-pucit', 'title': 'Meeting Module from PUCIT | OrangeHRM', 'domain_rating': 51, 'target_url': 'https://pucit.edu.pk/', 'anchor': 'PUCIT Lahore', 'summary': ' ', 'link': '[{\"url\":\"http://www.pucit.edu.pk/\",\"urlNew\":\"None\",\"redirectCode\":301,\"mustBeGray\":false,\"httpCodeCross\":false,\"chainDestinationChanged\":false,\"hasDelReason\":false,\"delReasonTitle\":\"None\",\"delReasonKey\":\"None\",\"lostRedirectReason\":\"None\",\"isLost\":true}]'}, {'url': 'https://www.pakistantime.com.pk/hot-news/49530/', 'title': 'پنجاب کی 25 یونیورسٹیز میں وائس چانسلرز کا انتخاب اور نگران وزیر اعلی پنجاب محسن نقوی کا کردار،مخصوص مسلک کو نوازنے کے لیے اختیارات کا ناجائز استعمال عروج پر،پاکستان ٹائم نے دستاویزی ثبوت حاصل کر لیے | Pakistan Time HD | Latest Urdu News | Breaking News', 'domain_rating': 5, 'target_url': 'https://pucit.edu.pk/punjab-university-joined-the-knowledge-streams-university-alliance/', 'anchor': 'PUNJAB UNIVERSITY JOINED THE KNOWLEDGE STREAMS UNIVERSITY ALLIANCE', 'summary': ' ', 'link': ''}]}\n"
     ]
    }
   ],
   "source": [
    "import requests\n",
    "\n",
    "url = \"https://ahrefs2.p.rapidapi.com/backlinks\"\n",
    "\n",
    "querystring = {\"url\":\"pucit.edu.pk\",\"mode\":\"subdomains\"}\n",
    "\n",
    "headers = {\n",
    "\t\"x-rapidapi-key\": \"625de418a4msh90a3327fa1424dfp1b4745jsn8eea7354cf51\",\n",
    "\t\"x-rapidapi-host\": \"ahrefs2.p.rapidapi.com\"\n",
    "}\n",
    "\n",
    "response = requests.get(url, headers=headers, params=querystring)\n",
    "\n",
    "print(response.json())"
   ]
  },
  {
   "cell_type": "code",
   "execution_count": 5,
   "metadata": {},
   "outputs": [],
   "source": [
    "prompt = (\n",
    "    \"Analyze the following website backlinks data and provide SEO insights \"\n",
    "    \"for the client to improve their performance/backlinks of website.\"\n",
    "    \"Backlinks Data: \\n\\n\"\n",
    "    f\"{response.json()}\"\n",
    "    \"\\nProvide specific and actionable recommendations only for the client.\"\n",
    "\n",
    ")\n",
    "\n",
    "\n",
    "# Invoke the LLM\n",
    "response = llm.invoke(prompt)"
   ]
  },
  {
   "cell_type": "code",
   "execution_count": 6,
   "metadata": {},
   "outputs": [
    {
     "name": "stdout",
     "output_type": "stream",
     "text": [
      "Based on the provided backlinks data, here are some specific and actionable recommendations for the client to improve their performance and backlinks:\n",
      "\n",
      "1. **Diversify Anchor Text**: The current anchor text is heavily biased towards the college name (\"Punjab University College of Information Technology\" or \"PUCIT\"). To avoid keyword cannibalization, it's recommended to diversify the anchor text by using variations like \"Information Technology College in Lahore\", \"PUCIT Lahore\", or \"Best IT College in Pakistan\".\n",
      "\n",
      "2. **Increase DoFollow Backlinks**: Currently, only 60 out of 1767 backlinks are DoFollow. To increase the number of DoFollow backlinks, focus on acquiring links from high-authority websites (.gov, .edu, or reputable news sites) that allow DoFollow links.\n",
      "\n",
      "3. **Target Relevant and High-Authority Websites**: The current backlinks come from a mix of high and low-authority websites. To improve the overall authority of the website, focus on acquiring links from high-authority websites (Domain Rating > 70) that are relevant to the college's niche (education, technology, or Pakistan-specific websites).\n",
      "\n",
      "4. **Leverage Wikipedia and Other Wiki Sites**: The college already has links from Wikipedia and other wiki sites. To further leverage this, create or edit relevant articles on these platforms to increase the number of links pointing to the college's website.\n",
      "\n",
      "5. **Utilize Faculty and Student Profiles**: Many backlinks point to faculty or student profiles. To increase the number of links, encourage faculty members and students to create profiles on reputable platforms (e.g., Academia.edu, ResearchGate, or LinkedIn) and link back to the college's website.\n",
      "\n",
      "6. **Create Linkable Assets**: Develop high-quality, informative, and engaging content (e.g., research papers, eBooks, or infographics) that can attract links from other websites. This can include creating resources for students, such as study guides or career advice articles.\n",
      "\n",
      "7. **Participate in Online Communities**: Engage with online communities related to education and technology in Pakistan to increase brand visibility and attract links from relevant websites.\n",
      "\n",
      "8. **Optimize Internal Linking**: Ensure that the college's website has a clear and organized structure, with proper internal linking to help search engines understand the website's hierarchy and content.\n",
      "\n",
      "9. **Monitor and Disavow Low-Quality Links**: Regularly monitor the backlink profile and disavow any low-quality or spammy links that may be harming the website's authority.\n",
      "\n",
      "10. **Develop a Resource Center**: Create a resource center on the college's website that provides valuable information and links to other relevant websites. This can help attract links from other websites and increase the college's authority in the education niche.\n",
      "\n",
      "By implementing these recommendations, the client can improve their website's backlink profile, increase their online visibility, and enhance their overall SEO performance.\n"
     ]
    }
   ],
   "source": [
    "print(response.content)"
   ]
  },
  {
   "cell_type": "code",
   "execution_count": 8,
   "metadata": {},
   "outputs": [],
   "source": [
    "import markdown"
   ]
  },
  {
   "cell_type": "code",
   "execution_count": 23,
   "metadata": {},
   "outputs": [
    {
     "name": "stdout",
     "output_type": "stream",
     "text": [
      "<p>Based on the backlinks data, here are some SEO insights and actionable recommendations for the client to improve their website's performance and backlinks:</p>\n",
      "<p><strong>Insights:</strong></p>\n",
      "<ol>\n",
      "<li><strong>Low Domain Rating</strong>: The website's domain rating is 0.2, which is very low. This indicates that the website lacks authority and trust in the eyes of search engines.</li>\n",
      "<li><strong>Limited Referring Domains</strong>: The website has only 11 referring domains, which is a relatively small number. This suggests that the website needs to diversify its backlink profile.</li>\n",
      "<li><strong>Over-Optimization</strong>: Many of the backlinks have the exact anchor text \"waheediqbal.info\", which may be seen as over-optimization by search engines.</li>\n",
      "<li><strong>Lack of Diverse Anchor Text</strong>: The anchor text distribution is not diverse, with most links having the same anchor text.</li>\n",
      "</ol>\n",
      "<p><strong>Recommendations:</strong></p>\n",
      "<ol>\n",
      "<li><strong>Diversify Anchor Text</strong>: Focus on acquiring backlinks with diverse anchor texts, such as branded anchors (e.g., \"Waheed Iqbal\"), descriptive anchors (e.g., \"Data Science Expert\"), or even naked URLs (e.g., \"https://waheediqbal.info/\").</li>\n",
      "<li><strong>Target High-Quality Referring Domains</strong>: Focus on acquiring backlinks from high-quality referring domains with high domain ratings (e.g., 50+). This will help increase the website's authority and trust.</li>\n",
      "<li><strong>Create High-Quality Content</strong>: Develop high-quality, engaging, and informative content that attracts links naturally. This could include blog posts, infographics, or resource pages.</li>\n",
      "<li><strong>Guest Blogging</strong>: Engage in guest blogging on relevant and high-quality websites to acquire backlinks from diverse domains.</li>\n",
      "<li><strong>Remove or Update Low-Quality Backlinks</strong>: Identify and remove or update low-quality backlinks that may be harming the website's reputation.</li>\n",
      "<li><strong>Internal Linking</strong>: Improve internal linking to help search engines understand the website's structure and content hierarchy.</li>\n",
      "<li><strong>Content Marketing</strong>: Focus on content marketing strategies, such as creating resource pages, eBooks, or whitepapers, to attract links and mentions from other websites.</li>\n",
      "<li><strong>Local SEO</strong>: If the website targets a specific geographic region, optimize the website for local SEO by including name, address, and phone number (NAP) consistently across the web and creating content relevant to the local audience.</li>\n",
      "</ol>\n",
      "<p>By implementing these recommendations, the client can improve their website's backlink profile, increase their domain rating, and enhance their online visibility.</p>\n"
     ]
    }
   ],
   "source": [
    "print(markdown.markdown(response.content))"
   ]
  }
 ],
 "metadata": {
  "kernelspec": {
   "display_name": "Python 3",
   "language": "python",
   "name": "python3"
  },
  "language_info": {
   "codemirror_mode": {
    "name": "ipython",
    "version": 3
   },
   "file_extension": ".py",
   "mimetype": "text/x-python",
   "name": "python",
   "nbconvert_exporter": "python",
   "pygments_lexer": "ipython3",
   "version": "3.12.1"
  }
 },
 "nbformat": 4,
 "nbformat_minor": 2
}
