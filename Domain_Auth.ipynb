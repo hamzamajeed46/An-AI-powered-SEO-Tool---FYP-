{
 "cells": [
  {
   "cell_type": "code",
   "execution_count": null,
   "metadata": {},
   "outputs": [
    {
     "name": "stdout",
     "output_type": "stream",
     "text": [
      "{'domain': 'waheediqbal.info', 'domain_rating': 0.1, 'ahrefs_rank': 111960487}\n"
     ]
    }
   ],
   "source": [
    "from config import Config\n",
    "import requests\n",
    "\n",
    "url = \"https://ahrefs-api.p.rapidapi.com/check-dr-ar\"\n",
    "\n",
    "querystring = {\"domain\":\"waheediqbal.info\"}\n",
    "\n",
    "headers = {\n",
    "\t\"x-rapidapi-key\": Config.API_KEY,\n",
    "\t\"x-rapidapi-host\": \"ahrefs-api.p.rapidapi.com\"\n",
    "}\n",
    "\n",
    "result = requests.get(url, headers=headers, params=querystring)\n",
    "\n",
    "print(result.json())"
   ]
  },
  {
   "cell_type": "code",
   "execution_count": null,
   "metadata": {},
   "outputs": [],
   "source": [
    "import markdown\n",
    "from langchain_groq import ChatGroq\n",
    "\n",
    "# Initialize the ChatGroq LLM\n",
    "llm = ChatGroq(\n",
    "    temperature = 0,\n",
    "    groq_api_key = Config.LLM_API,\n",
    "    model_name = \"llama-3.3-70b-versatile\"\n",
    ")\n",
    "\n",
    "\n",
    "# Construct the prompt\n",
    "prompt = (\n",
    "    \"Analyze the following website domain authority data and provide SEO recommendations \"\n",
    "    \"for the client to improve their domain authority of website.\"\n",
    "    \"\\n\\n\"\n",
    "    f\"{result.json()}\\n\"\n",
    "    \"\\nProvide specific and actionable recommendations only for the client.\"\n",
    ")\n",
    "\n",
    "\n",
    "# Invoke the LLM\n",
    "response = llm.invoke(prompt)"
   ]
  },
  {
   "cell_type": "code",
   "execution_count": 3,
   "metadata": {},
   "outputs": [
    {
     "name": "stdout",
     "output_type": "stream",
     "text": [
      "Based on the provided domain authority data, here are some specific and actionable SEO recommendations to improve the domain authority of the website:\n",
      "\n",
      "1. **High-Quality Backlink Acquisition**: With a domain rating of 0.1, the website lacks high-quality backlinks. Focus on acquiring backlinks from authoritative sources (DR 50+), such as:\n",
      "\t* Guest blogging on relevant niche websites\n",
      "\t* Participating in expert interviews or podcasts\n",
      "\t* Creating linkable assets (e.g., eBooks, whitepapers, or webinars)\n",
      "\t* Leveraging broken link building or resource page link building\n",
      "2. **Content Creation and Optimization**: Develop a content strategy that targets relevant keywords and provides value to the audience:\n",
      "\t* Conduct keyword research to identify low-competition, high-volume search terms\n",
      "\t* Create high-quality, engaging, and informative content (blog posts, articles, or guides)\n",
      "\t* Optimize on-page elements (title tags, meta descriptions, headings, and internal linking)\n",
      "3. **Technical SEO Audit and Improvement**: Ensure the website is technically sound and user-friendly:\n",
      "\t* Conduct a technical SEO audit to identify and fix issues (e.g., page speed, mobile responsiveness, and SSL encryption)\n",
      "\t* Improve website loading speed (aim for <3 seconds) by optimizing images, minifying code, and leveraging browser caching\n",
      "\t* Ensure proper website indexing and crawlability by submitting a sitemap to Google Search Console\n",
      "4. **Local SEO (if applicable)**: If the website targets a specific geographic region, optimize for local SEO:\n",
      "\t* Claim and verify the Google My Business listing\n",
      "\t* Ensure consistency in name, address, and phone number (NAP) across the web\n",
      "\t* Create content that targets local keywords and phrases\n",
      "5. **Regular Content Updates and Promotion**: Regularly update the website with fresh, high-quality content and promote it through various channels:\n",
      "\t* Publish new content at least once a week\n",
      "\t* Share content on social media platforms and engage with the audience\n",
      "\t* Participate in online communities related to the niche to build relationships and promote the website\n",
      "\n",
      "By implementing these recommendations, the client can improve the domain authority of their website, increase online visibility, and drive more traffic to the site.\n"
     ]
    }
   ],
   "source": [
    "print(response.content)"
   ]
  },
  {
   "cell_type": "code",
   "execution_count": null,
   "metadata": {},
   "outputs": [
    {
     "name": "stdout",
     "output_type": "stream",
     "text": [
      "{'message': \"Endpoint '/backlinks' does not exist\"}\n"
     ]
    }
   ],
   "source": [
    "import requests\n",
    "\n",
    "url = \"https://ahrefs1.p.rapidapi.com/v1/backlink-checker\"\n",
    "\n",
    "querystring = {\"url\":\"ahrefs.com\",\"mode\":\"subdomains\"}\n",
    "\n",
    "headers = {\n",
    "\t\"x-rapidapi-key\": Config.API_KEY,\n",
    "\t\"x-rapidapi-host\": \"ahrefs1.p.rapidapi.com\"\n",
    "}\n",
    "\n",
    "response = requests.get(url, headers=headers, params=querystring)\n",
    "\n",
    "print(response.json())"
   ]
  },
  {
   "cell_type": "code",
   "execution_count": 5,
   "metadata": {},
   "outputs": [],
   "source": [
    "prompt = (\n",
    "    \"Analyze the following website backlinks data and provide SEO insights \"\n",
    "    \"for the client to improve their performance/backlinks of website.\"\n",
    "    \"Backlinks Data: \\n\\n\"\n",
    "    f\"{response.json()}\"\n",
    "    \"\\nProvide specific and actionable recommendations only for the client.\"\n",
    "\n",
    ")\n",
    "\n",
    "\n",
    "# Invoke the LLM\n",
    "response = llm.invoke(prompt)"
   ]
  },
  {
   "cell_type": "code",
   "execution_count": 6,
   "metadata": {},
   "outputs": [
    {
     "name": "stdout",
     "output_type": "stream",
     "text": [
      "Based on the provided backlinks data, here are some specific and actionable recommendations for the client to improve their performance and backlinks:\n",
      "\n",
      "1. **Leverage Wikipedia Backlinks**: The website has backlinks from Wikipedia, which is a high-authority domain. To further leverage this, create more informative and relevant content on Wikipedia that links back to the PUCIT website, especially on pages related to the university, its departments, and notable alumni.\n",
      "\n",
      "2. **Guest Blogging on High-Authority Sites**: Reach out to high-authority websites (e.g., domain rating 70+) in the education and technology niches to publish guest posts that link back to the PUCIT website. This will help increase the number of high-quality backlinks.\n",
      "\n",
      "3. **Optimize Anchor Text**: The current anchor text distribution is mostly branded (e.g., \"Punjab University College of Information Technology\"). To improve this, aim for a more diverse anchor text distribution by using descriptive phrases (e.g., \"computer science programs in Pakistan\") in guest posts and other external content.\n",
      "\n",
      "4. **Internal Linking**: Although not directly related to backlinks, internal linking can help improve user experience and search engine crawlability. Ensure that the PUCIT website has a clear and organized structure, with relevant internal links to help users and search engines navigate the site.\n",
      "\n",
      "5. **Resource Pages**: Create resource pages on the PUCIT website that link to other high-quality websites in the education and technology niches. This can help attract links from other websites, as they may link back to the PUCIT resource page.\n",
      "\n",
      "6. **Broken Link Building**: Identify broken links on other websites that point to similar content, and offer to replace them with a working link to a relevant page on the PUCIT website.\n",
      "\n",
      "7. **Scholarship or Resource Creation**: Create a valuable resource (e.g., a scholarship, a research paper, or a unique tool) that other websites can link to. This can help attract links from other high-quality websites in the education and technology niches.\n",
      "\n",
      "8. **Local SEO**: As the PUCIT website is specific to a region (Lahore, Pakistan), ensure that the website is optimized for local SEO by including name, address, and phone number (NAP) consistently across the web, and creating content that is relevant to the local audience.\n",
      "\n",
      "9. **Monitor and Disavow Low-Quality Backlinks**: Regularly monitor the website's backlink profile and disavow any low-quality or spammy backlinks that may be harming the website's reputation.\n",
      "\n",
      "10. **Track and Measure Performance**: Use tools like Google Analytics and Google Search Console to track the website's performance, and measure the effectiveness of the above recommendations.\n",
      "\n",
      "By implementing these recommendations, the client can improve the quality and quantity of their backlinks, which can lead to better search engine rankings and increased online visibility.\n"
     ]
    }
   ],
   "source": [
    "print(response.content)"
   ]
  },
  {
   "cell_type": "code",
   "execution_count": 8,
   "metadata": {},
   "outputs": [],
   "source": [
    "import markdown"
   ]
  },
  {
   "cell_type": "code",
   "execution_count": 23,
   "metadata": {},
   "outputs": [
    {
     "name": "stdout",
     "output_type": "stream",
     "text": [
      "<p>Based on the backlinks data, here are some SEO insights and actionable recommendations for the client to improve their website's performance and backlinks:</p>\n",
      "<p><strong>Insights:</strong></p>\n",
      "<ol>\n",
      "<li><strong>Low Domain Rating</strong>: The website's domain rating is 0.2, which is very low. This indicates that the website lacks authority and trust in the eyes of search engines.</li>\n",
      "<li><strong>Limited Referring Domains</strong>: The website has only 11 referring domains, which is a relatively small number. This suggests that the website needs to diversify its backlink profile.</li>\n",
      "<li><strong>Over-Optimization</strong>: Many of the backlinks have the exact anchor text \"waheediqbal.info\", which may be seen as over-optimization by search engines.</li>\n",
      "<li><strong>Lack of Diverse Anchor Text</strong>: The anchor text distribution is not diverse, with most links having the same anchor text.</li>\n",
      "</ol>\n",
      "<p><strong>Recommendations:</strong></p>\n",
      "<ol>\n",
      "<li><strong>Diversify Anchor Text</strong>: Focus on acquiring backlinks with diverse anchor texts, such as branded anchors (e.g., \"Waheed Iqbal\"), descriptive anchors (e.g., \"Data Science Expert\"), or even naked URLs (e.g., \"https://waheediqbal.info/\").</li>\n",
      "<li><strong>Target High-Quality Referring Domains</strong>: Focus on acquiring backlinks from high-quality referring domains with high domain ratings (e.g., 50+). This will help increase the website's authority and trust.</li>\n",
      "<li><strong>Create High-Quality Content</strong>: Develop high-quality, engaging, and informative content that attracts links naturally. This could include blog posts, infographics, or resource pages.</li>\n",
      "<li><strong>Guest Blogging</strong>: Engage in guest blogging on relevant and high-quality websites to acquire backlinks from diverse domains.</li>\n",
      "<li><strong>Remove or Update Low-Quality Backlinks</strong>: Identify and remove or update low-quality backlinks that may be harming the website's reputation.</li>\n",
      "<li><strong>Internal Linking</strong>: Improve internal linking to help search engines understand the website's structure and content hierarchy.</li>\n",
      "<li><strong>Content Marketing</strong>: Focus on content marketing strategies, such as creating resource pages, eBooks, or whitepapers, to attract links and mentions from other websites.</li>\n",
      "<li><strong>Local SEO</strong>: If the website targets a specific geographic region, optimize the website for local SEO by including name, address, and phone number (NAP) consistently across the web and creating content relevant to the local audience.</li>\n",
      "</ol>\n",
      "<p>By implementing these recommendations, the client can improve their website's backlink profile, increase their domain rating, and enhance their online visibility.</p>\n"
     ]
    }
   ],
   "source": [
    "print(markdown.markdown(response.content))"
   ]
  }
 ],
 "metadata": {
  "kernelspec": {
   "display_name": "Python 3",
   "language": "python",
   "name": "python3"
  },
  "language_info": {
   "codemirror_mode": {
    "name": "ipython",
    "version": 3
   },
   "file_extension": ".py",
   "mimetype": "text/x-python",
   "name": "python",
   "nbconvert_exporter": "python",
   "pygments_lexer": "ipython3",
   "version": "3.12.1"
  }
 },
 "nbformat": 4,
 "nbformat_minor": 2
}
