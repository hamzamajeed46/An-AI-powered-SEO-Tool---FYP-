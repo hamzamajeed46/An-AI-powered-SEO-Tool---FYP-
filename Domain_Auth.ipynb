{
 "cells": [
  {
   "cell_type": "code",
   "execution_count": 10,
   "metadata": {},
   "outputs": [
    {
     "name": "stdout",
     "output_type": "stream",
     "text": [
      "{'domain': 'waheediqbal.info', 'domain_rating': 0.2, 'ahrefs_rank': 110055866}\n"
     ]
    }
   ],
   "source": [
    "import requests\n",
    "\n",
    "url = \"https://ahrefs-api.p.rapidapi.com/check-dr-ar\"\n",
    "\n",
    "querystring = {\"domain\":\"waheediqbal.info\"}\n",
    "\n",
    "headers = {\n",
    "\t\"x-rapidapi-key\": \"85e7d0841amshe3a29d2229bb909p17f5ccjsnefcb401c476a\",\n",
    "\t\"x-rapidapi-host\": \"ahrefs-api.p.rapidapi.com\"\n",
    "}\n",
    "\n",
    "result = requests.get(url, headers=headers, params=querystring)\n",
    "\n",
    "print(result.json())"
   ]
  },
  {
   "cell_type": "code",
   "execution_count": 11,
   "metadata": {},
   "outputs": [],
   "source": [
    "import markdown\n",
    "from langchain_groq import ChatGroq\n",
    "\n",
    "# Initialize the ChatGroq LLM\n",
    "llm = ChatGroq(\n",
    "    temperature=0,\n",
    "    groq_api_key='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',\n",
    "    model_name=\"llama3-70b-8192\"\n",
    ")\n",
    "\n",
    "json_response = result.json()\n",
    "\n",
    "# Extract the values safely using .get() to avoid KeyErrors\n",
    "domain = json_response.get('domain', 'N/A')\n",
    "domain_rating = json_response.get('domain_rating', 'N/A')\n",
    "ahrefs_rank = json_response.get('arefs_rank', 'N/A')\n",
    "\n",
    "# Construct the prompt\n",
    "prompt = (\n",
    "    \"Analyze the following website domain authority data and provide SEO recommendations \"\n",
    "    \"for the client to improve their domain authority of website.\"\n",
    "    \"\\n\\n\"\n",
    "    f\"Domain Authority Data:\\n\"\n",
    "    f\"Domain: {domain}\\n\"\n",
    "    f\"Domain Rating: {domain_rating}\\n\"\n",
    "    f\"Ahrefs Rank: {ahrefs_rank}\\n\"\n",
    "    \"\\nProvide specific and actionable recommendations only for the client.\"\n",
    ")\n",
    "\n",
    "\n",
    "# Invoke the LLM\n",
    "response = llm.invoke(prompt)"
   ]
  },
  {
   "cell_type": "code",
   "execution_count": 20,
   "metadata": {},
   "outputs": [
    {
     "name": "stdout",
     "output_type": "stream",
     "text": [
      "['<h2>SEO Recommendations</h2>\\n<p>content=\"Based on the provided domain authority data, here are some specific and actionable SEO recommendations for the client to improve their domain authority:', '', '<strong>Current State:</strong>', '', '<em> Domain Authority (DA): 0.2 (very low)', '</em> Ahrefs Rank: N/A (not ranked)', '', '<strong>Recommendations:</strong>', '', '1. <strong>High-Quality Backlinks:</strong>', 'Acquire high-quality backlinks from authoritative sources to increase the domain authority. Focus on getting links from relevant and trusted websites with a DA of 30 or higher. You can achieve this by:', '\\\\t<em> Guest blogging on reputable sites', '\\\\t</em> Leveraging relationships with influencers or other businesses in your niche', '\\\\t<em> Creating linkable assets (e.g., infographics, eBooks, or whitepapers)', '\\\\t</em> Participating in online communities and forums related to your industry', '2. <strong>Content Quality and Quantity:</strong>', 'Improve the quality and quantity of content on your website. This will help increase engagement, reduce bounce rates, and attract more links. Focus on:', '\\\\t<em> Creating well-researched, informative, and engaging content', '\\\\t</em> Publishing content regularly to keep your audience engaged', '\\\\t<em> Optimizing content with relevant keywords, meta tags, and descriptions', '3. </em><em>Technical SEO:</em><em>', 'Ensure your website is technically sound to improve crawlability and indexing. Focus on:', '\\\\t</em> Optimizing page speed (aim for &lt;3 seconds)', '\\\\t<em> Ensuring mobile-friendliness and responsiveness', '\\\\t</em> Implementing SSL encryption (HTTPS)', '\\\\t<em> Fixing broken links and images', '\\\\t</em> Optimizing images by compressing and using descriptive alt tags', '4. <strong>Internal Linking:</strong>', \"Improve internal linking to help search engines understand your website's structure and content hierarchy. Focus on:\", '\\\\t<em> Creating a clear and logical site architecture', '\\\\t</em> Using descriptive and keyword-rich anchor text for internal links', '\\\\t<em> Linking to relevant and useful content within your website', '5. </em><em>Social Signals:</em><em>', 'Increase social signals to improve brand awareness and drive traffic to your website. Focus on:', '\\\\t</em> Creating engaging content that encourages sharing and interaction', '\\\\t<em> Building a strong presence on relevant social media platforms', '\\\\t</em> Sharing user-generated content and responding to comments and messages', '6. <strong>Local SEO (if applicable):</strong>', 'If your website targets a specific geographic region, optimize for local SEO by:', '\\\\t<em> Claiming and optimizing your Google My Business listing', \"\\\\t</em> Including your business's name, address, and phone number (NAP) consistently across the web\", '\\\\t<em> Building high-quality citations on local directories and review sites', '7. </em><em>Track and Analyze:</em><em>', \"Monitor your website's performance using tools like Google Analytics and Ahrefs. Track key metrics such as:\", '\\\\t</em> Organic traffic', '\\\\t<em> Bounce rate', '\\\\t</em> Average session duration', '\\\\t<em> Conversion rates', '\\\\t</em> Backlink growth and quality', '', '<strong>Actionable Tasks:</strong>', '', '1. Create a list of 10 high-quality backlink targets and outreach to them within the next 2 weeks.', '2. Publish 4 high-quality, engaging, and informative blog posts within the next 4 weeks.', '3. Conduct a technical SEO audit and fix any issues found within the next 3 weeks.', '4. Implement internal linking best practices on 5 key pages within the next 2 weeks.', '5. Increase social media engagement by 20% within the next 6 weeks by creating and sharing engaging content.', '', 'By following these recommendations and actionable tasks, the client can improve their domain authority and increase their online visibility.\" additional_kwargs={} response_metadata={\\'token_usage\\': {\\'completion_tokens\\': 713, \\'prompt_tokens\\': 82, \\'total_tokens\\': 795, \\'completion_time\\': 2.040275932, \\'prompt_time\\': 0.006844404, \\'queue_time\\': 0.018396775999999997, \\'total_time\\': 2.047120336}, \\'model_name\\': \\'llama3-70b-8192\\', \\'system_fingerprint\\': \\'fp_753a4aecf6\\', \\'finish_reason\\': \\'stop\\', \\'logprobs\\': None} id=\\'run-6a8d542c-abda-4b47-a79a-2aaf5279334f-0\\' usage_metadata={\\'input_tokens\\': 82, \\'output_tokens\\': 713, \\'total_tokens\\': 795}</p>']\n"
     ]
    }
   ],
   "source": [
    "markdown_response = f\"## SEO Recommendations\\n\\n{response}\"\n",
    "html_output = markdown.markdown(markdown_response)\n",
    "print(html_output.split(\"\\\\n\"))"
   ]
  },
  {
   "cell_type": "code",
   "execution_count": 26,
   "metadata": {},
   "outputs": [
    {
     "name": "stdout",
     "output_type": "stream",
     "text": [
      "Based on the provided domain authority data, here are some specific and actionable SEO recommendations for the client to improve their domain authority:\n",
      "\n",
      "**Current State:**\n",
      "\n",
      "* Domain Authority (DA): 0.2 (very low)\n",
      "* Ahrefs Rank: N/A (not ranked)\n",
      "\n",
      "**Recommendations:**\n",
      "\n",
      "1. **High-Quality Backlinks:**\n",
      "Acquire high-quality backlinks from authoritative sources to increase the domain authority. Focus on getting links from relevant and trusted websites with a DA of 30 or higher. You can achieve this by:\n",
      "\t* Guest blogging on reputable sites\n",
      "\t* Leveraging relationships with influencers or other businesses in your niche\n",
      "\t* Creating linkable assets (e.g., infographics, eBooks, or whitepapers)\n",
      "\t* Participating in online communities and forums related to your industry\n",
      "2. **Content Quality and Quantity:**\n",
      "Improve the quality and quantity of content on your website. This will help increase engagement, reduce bounce rates, and attract more links. Focus on:\n",
      "\t* Creating well-researched, informative, and engaging content\n",
      "\t* Publishing content regularly to keep your audience engaged\n",
      "\t* Optimizing content with relevant keywords, meta tags, and descriptions\n",
      "3. **Technical SEO:**\n",
      "Ensure your website is technically sound to improve crawlability and indexing. Focus on:\n",
      "\t* Optimizing page speed (aim for <3 seconds)\n",
      "\t* Ensuring mobile-friendliness and responsiveness\n",
      "\t* Implementing SSL encryption (HTTPS)\n",
      "\t* Fixing broken links and images\n",
      "\t* Optimizing images by compressing and using descriptive alt tags\n",
      "4. **Internal Linking:**\n",
      "Improve internal linking to help search engines understand your website's structure and content hierarchy. Focus on:\n",
      "\t* Creating a clear and logical site architecture\n",
      "\t* Using descriptive and keyword-rich anchor text for internal links\n",
      "\t* Linking to relevant and useful content within your website\n",
      "5. **Social Signals:**\n",
      "Increase social signals to improve brand awareness and drive traffic to your website. Focus on:\n",
      "\t* Creating engaging content that encourages sharing and interaction\n",
      "\t* Building a strong presence on relevant social media platforms\n",
      "\t* Sharing user-generated content and responding to comments and messages\n",
      "6. **Local SEO (if applicable):**\n",
      "If your website targets a specific geographic region, optimize for local SEO by:\n",
      "\t* Claiming and optimizing your Google My Business listing\n",
      "\t* Including your business's name, address, and phone number (NAP) consistently across the web\n",
      "\t* Building high-quality citations on local directories and review sites\n",
      "7. **Track and Analyze:**\n",
      "Monitor your website's performance using tools like Google Analytics and Ahrefs. Track key metrics such as:\n",
      "\t* Organic traffic\n",
      "\t* Bounce rate\n",
      "\t* Average session duration\n",
      "\t* Conversion rates\n",
      "\t* Backlink growth and quality\n",
      "\n",
      "**Actionable Tasks:**\n",
      "\n",
      "1. Create a list of 10 high-quality backlink targets and outreach to them within the next 2 weeks.\n",
      "2. Publish 4 high-quality, engaging, and informative blog posts within the next 4 weeks.\n",
      "3. Conduct a technical SEO audit and fix any issues found within the next 3 weeks.\n",
      "4. Implement internal linking best practices on 5 key pages within the next 2 weeks.\n",
      "5. Increase social media engagement by 20% within the next 6 weeks by creating and sharing engaging content.\n",
      "\n",
      "By following these recommendations and actionable tasks, the client can improve their domain authority and increase their online visibility.\n"
     ]
    }
   ],
   "source": [
    "print(response.content)"
   ]
  },
  {
   "cell_type": "code",
   "execution_count": 24,
   "metadata": {},
   "outputs": [
    {
     "name": "stdout",
     "output_type": "stream",
     "text": [
      "Error: 403 Client Error: Forbidden for url: https://nust.edu.pk/\n"
     ]
    }
   ],
   "source": [
    "import requests\n",
    "from bs4 import BeautifulSoup\n",
    "\n",
    "def scrape_website_details(url):\n",
    "    try:\n",
    "        # Send a GET request to the website\n",
    "        response = requests.get(url, headers={\"User-Agent\": \"Mozilla/5.0\"})\n",
    "        response.raise_for_status()  # Raise an error for bad responses (e.g., 404)\n",
    "\n",
    "        # Parse the HTML content\n",
    "        soup = BeautifulSoup(response.text, 'html.parser')\n",
    "\n",
    "        # Scrape the details\n",
    "        title = soup.title.string if soup.title else \"No Title Found\"\n",
    "        description = soup.find(\"meta\", attrs={\"name\": \"description\"})\n",
    "        description = description[\"content\"] if description else \"No Description Found\"\n",
    "        canonical = soup.find(\"link\", attrs={\"rel\": \"canonical\"})\n",
    "        canonical = canonical[\"href\"] if canonical else \"No Canonical URL Found\"\n",
    "        favicon = soup.find(\"link\", attrs={\"rel\": \"icon\"}) or soup.find(\"link\", attrs={\"rel\": \"shortcut icon\"})\n",
    "        favicon = favicon[\"href\"] if favicon else \"No Favicon Found\"\n",
    "        h1 = soup.find(\"h1\")\n",
    "        h1 = h1.text.strip() if h1 else \"No H1 Found\"\n",
    "\n",
    "        # Return the results\n",
    "        return {\n",
    "            \"title\": title,\n",
    "            \"description\": description,\n",
    "            \"canonical\": canonical,\n",
    "            \"favicon\": favicon,\n",
    "            \"h1\": h1,\n",
    "        }\n",
    "\n",
    "    except requests.exceptions.RequestException as e:\n",
    "        return {\"error\": str(e)}\n",
    "\n",
    "# Example usage\n",
    "url = \"https://nust.edu.pk/\"\n",
    "details = scrape_website_details(url)\n",
    "\n",
    "# Print the results\n",
    "for key, value in details.items():\n",
    "    print(f\"{key.capitalize()}: {value}\")\n"
   ]
  },
  {
   "cell_type": "code",
   "execution_count": 29,
   "metadata": {},
   "outputs": [
    {
     "name": "stdout",
     "output_type": "stream",
     "text": [
      "{'status': 'success', 'url': 'waheediqbal.info', 'domainRating': 0.2, 'urlRating': 0, 'backlinks': 18, 'refdomains': 11, 'dofollowBacklinks': 39, 'dofollowRefdomains': 27, 'backlinksList': [{'url': 'https://seoprobox.click/increase-backlinks-ahrefs-domain-rating-50-60-70-moz-domain-authority-20-30-and-guest-posting-14714/', 'title': 'Increase backLink building, increase ahrefs rank, moz domain authority, and majestic tf-seoprobox – seoprobox', 'domain_rating': 8, 'target_url': 'https://waheediqbal.info/', 'anchor': 'waheediqbal.info', 'summary': ' ', 'link': ''}, {'url': 'https://bethanyfamilyinstitute.com/high-quality-da-dr-backlinks-high-tf-backlinks-high-traffic-guest-post-website-available-ahrefs-domain-rating-70-moz-domain-authority-13164/', 'title': 'Seo services & Guest posting services,increase ahrefs, moz & majestic tf-linksjump – bethanyfamilyinstitute', 'domain_rating': 6, 'target_url': 'https://waheediqbal.info/', 'anchor': 'waheediqbal.info', 'summary': ' ', 'link': ''}, {'url': 'https://linkbox.agency/see-results-first-pay-later-seo-3646/', 'title': 'Achieve High Moz DA/Ahrefs DR/Majestic TF Scores with Expert Link-Building Techniques at SkyLinkSeo.com– Pay After Work – Maximize Your Rankings with Proven Link-Building Expertise at SkyLinkSEO.com – See Results First Pay Later', 'domain_rating': 63, 'target_url': 'https://waheediqbal.info/', 'anchor': 'Enhance Your Site’s https://waheediqbal.info for Ahrefs Domain Rating, Moz Domain Authority, & Majestic Trust Flow with High Quality Seo Dofollow Backlinks | See Results First Pay later at Shop.Skylinkseo.com', 'summary': ' ', 'link': ''}, {'url': 'https://pucit.edu.pk/department-of-data-science/', 'title': 'FCIT | | Department of Data Science', 'domain_rating': 35, 'target_url': 'https://www.waheediqbal.info/', 'anchor': 'http://www.waheediqbal.info/', 'summary': 'Website: ', 'link': '[{\"url\":\"http://www.waheediqbal.info/\",\"urlNew\":\"None\",\"redirectCode\":301,\"mustBeGray\":false,\"httpCodeCross\":false,\"chainDestinationChanged\":false,\"hasDelReason\":false,\"delReasonTitle\":\"None\",\"delReasonKey\":\"None\",\"lostRedirectReason\":\"None\",\"isLost\":true}]'}, {'url': 'https://webby.pages.dev/15/qcehjXeXoy', 'title': 'Top Global Websites Directory', 'domain_rating': 90, 'target_url': 'https://waheediqbal.info/', 'anchor': 'waheediqbal.info', 'summary': '💎 ', 'link': ''}, {'url': 'https://prolinkbox.com/boost-da-dr-tf-with-refill-guarantee-12526/', 'title': 'Achieve Highest Ranking and Beat Your Competitors Check Results First, Pay Later—Guaranteed Success with ProLinkBox – ProLinkBox SEO And Link Building Services Agency', 'domain_rating': 63, 'target_url': 'https://waheediqbal.info/', 'anchor': 'waheediqbal.info', 'summary': ' ', 'link': ''}, {'url': 'https://urls-shortener.eu/share/432338', 'title': '❤️ URL Shared ❤️', 'domain_rating': 68, 'target_url': 'https://waheediqbal.info/', 'anchor': 'waheediqbal.info', 'summary': 'click site &nbsp', 'link': ''}, {'url': 'https://uplinke-seo-enhancement.za.com/wosa/', 'title': 'SEO Enhancement & Performance – Pay after Work on Uplinke.com', 'domain_rating': 33, 'target_url': 'https://waheediqbal.info/', 'anchor': 'Enhance waheediqbal.info SEO for better visibility on Uplinke.com', 'summary': ' ', 'link': ''}, {'url': 'https://www.aminer.cn/profile/waheed-iqbal/53f4615bdabfaeee22a41191', 'title': 'Waheed Iqbal - Computer Science and Information Management, Asian Institute of Technology | 人才画像 - AMiner', 'domain_rating': 71, 'target_url': 'http://www.waheediqbal.info/', 'anchor': '', 'summary': ' ', 'link': ''}, {'url': 'https://webranksite.com/time-management-techniques-for-the-nonprofit-organizations/', 'title': 'Time Management Techniques for the Nonprofit Organizations | Web Rank Site', 'domain_rating': 66, 'target_url': 'https://waheediqbal.info/', 'anchor': 'waheediqbal', 'summary': ' ', 'link': ''}, {'url': 'https://www.idcrawl.com/waheed-iqbal', 'title': \"Waheed Iqbal's Instagram, Twitter & Facebook on IDCrawl\", 'domain_rating': 39, 'target_url': 'https://www.waheediqbal.info/', 'anchor': 'Waheed Iqbal', 'summary': ' ', 'link': ''}]}\n"
     ]
    }
   ],
   "source": [
    "import requests\n",
    "\n",
    "url = \"https://ahrefs2.p.rapidapi.com/backlinks\"\n",
    "\n",
    "querystring = {\"url\":\"waheediqbal.info\",\"mode\":\"subdomains\"}\n",
    "\n",
    "headers = {\n",
    "\t\"x-rapidapi-key\": \"85e7d0841amshe3a29d2229bb909p17f5ccjsnefcb401c476a\",\n",
    "\t\"x-rapidapi-host\": \"ahrefs2.p.rapidapi.com\"\n",
    "}\n",
    "\n",
    "response = requests.get(url, headers=headers, params=querystring)\n",
    "\n",
    "print(response.json())"
   ]
  },
  {
   "cell_type": "code",
   "execution_count": 30,
   "metadata": {},
   "outputs": [],
   "source": [
    "prompt = (\n",
    "    \"Analyze the following website backlinks data and provide SEO insights \"\n",
    "    \"for the client to improve their performance/backlinks of website.\"\n",
    "    \"Backlinks Data: \\n\\n\"\n",
    "    f\"{response.json()}\"\n",
    "    \"\\nProvide specific and actionable recommendations only for the client.\"\n",
    ")\n",
    "\n",
    "\n",
    "# Invoke the LLM\n",
    "response = llm.invoke(prompt)"
   ]
  },
  {
   "cell_type": "code",
   "execution_count": 31,
   "metadata": {},
   "outputs": [
    {
     "name": "stdout",
     "output_type": "stream",
     "text": [
      "Based on the backlinks data, here are some SEO insights and actionable recommendations for the client to improve their website's performance and backlinks:\n",
      "\n",
      "**Insights:**\n",
      "\n",
      "1. **Low Domain Rating**: The website's domain rating is 0.2, which is very low. This indicates that the website lacks authority and trust in the eyes of search engines.\n",
      "2. **Limited Referring Domains**: The website has only 11 referring domains, which is a small number. This suggests that the website is not widely recognized or linked to by other reputable websites.\n",
      "3. **Over-Optimization**: Many of the backlinks have the exact anchor text \"waheediqbal.info\", which may be seen as over-optimization by search engines.\n",
      "4. **Low-Quality Backlinks**: Some of the backlinks come from low-quality websites with low domain ratings, which may not be helping the website's authority.\n",
      "\n",
      "**Recommendations:**\n",
      "\n",
      "1. **Diversify Anchor Text**: Vary the anchor text used in backlinks to avoid over-optimization. Use more natural and descriptive anchor texts, such as \"Waheed Iqbal's website\" or \"Learn more about Waheed Iqbal\".\n",
      "2. **Acquire High-Quality Backlinks**: Focus on acquiring backlinks from high-quality, authoritative websites with high domain ratings (e.g., 50+). This will help increase the website's authority and trust.\n",
      "3. **Guest Blogging**: Engage in guest blogging on reputable websites to acquire high-quality backlinks. Ensure that the content is high-quality, informative, and relevant to the target audience.\n",
      "4. **Remove Low-Quality Backlinks**: Consider removing or disavowing low-quality backlinks that may be harming the website's authority.\n",
      "5. **Create High-Quality Content**: Focus on creating high-quality, engaging, and informative content on the website to attract natural backlinks from other websites.\n",
      "6. **Internal Linking**: Improve internal linking on the website to help search engines understand the website's structure and content hierarchy.\n",
      "7. **Social Signals**: Increase social signals by promoting the website on social media platforms and encouraging sharing and engagement.\n",
      "8. **Local SEO**: If the website is targeting a specific geographic region, optimize the website for local SEO by including name, address, and phone number (NAP) consistently across the web and creating content relevant to the local audience.\n",
      "\n",
      "By implementing these recommendations, the client can improve their website's authority, trust, and backlinks, which can lead to better search engine rankings and increased online visibility.\n"
     ]
    }
   ],
   "source": [
    "print(response.content)"
   ]
  },
  {
   "cell_type": "code",
   "execution_count": null,
   "metadata": {},
   "outputs": [],
   "source": []
  }
 ],
 "metadata": {
  "kernelspec": {
   "display_name": "Python 3",
   "language": "python",
   "name": "python3"
  },
  "language_info": {
   "codemirror_mode": {
    "name": "ipython",
    "version": 3
   },
   "file_extension": ".py",
   "mimetype": "text/x-python",
   "name": "python",
   "nbconvert_exporter": "python",
   "pygments_lexer": "ipython3",
   "version": "3.12.1"
  }
 },
 "nbformat": 4,
 "nbformat_minor": 2
}
